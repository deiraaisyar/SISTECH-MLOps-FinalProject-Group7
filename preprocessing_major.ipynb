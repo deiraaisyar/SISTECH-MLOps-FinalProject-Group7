{
 "cells": [
  {
   "cell_type": "code",
   "execution_count": 35,
   "id": "f11816bf",
   "metadata": {},
   "outputs": [],
   "source": [
    "import pandas as pd"
   ]
  },
  {
   "cell_type": "code",
   "execution_count": 36,
   "id": "949e9783",
   "metadata": {},
   "outputs": [],
   "source": [
    "major = pd.read_csv('jurusan_result.csv')\n",
    "rank = pd.read_csv('universitas_indonesia_qs.csv')"
   ]
  },
  {
   "cell_type": "code",
   "execution_count": 37,
   "id": "facc42e2",
   "metadata": {},
   "outputs": [
    {
     "data": {
      "application/vnd.microsoft.datawrangler.viewer.v0+json": {
       "columns": [
        {
         "name": "index",
         "rawType": "int64",
         "type": "integer"
        },
        {
         "name": "Universitas",
         "rawType": "object",
         "type": "unknown"
        },
        {
         "name": "Prodi",
         "rawType": "object",
         "type": "unknown"
        },
        {
         "name": "Jenjang",
         "rawType": "object",
         "type": "string"
        },
        {
         "name": "Status",
         "rawType": "object",
         "type": "unknown"
        }
       ],
       "ref": "cf479eb9-8f30-42ba-82d2-618e19a7cd1b",
       "rows": [
        [
         "0",
         "POLITEKNIK ANGKATAN LAUT, SURABAYA",
         "FARMASI",
         "D-III",
         "PTKL"
        ],
        [
         "1",
         "Universitas Brawijaya",
         "Pendidikan Profesi Arsitek",
         "Profesi",
         "PTN"
        ],
        [
         "2",
         "Sekolah Tinggi Agama Kristen Protestan Negeri Sentani",
         "Pendidikan Agama Kristen",
         "S1",
         "PTAN"
        ],
        [
         "3",
         "Universitas Lambung Mangkurat",
         "Administrasi Bisnis",
         "S2",
         "PTN"
        ],
        [
         "4",
         "Sekolah Tinggi Ilmu Ekonomi Tri Dharma Widya",
         "Akuntansi",
         "S1",
         "03"
        ],
        [
         "5",
         "Universitas Pasifik Morotai",
         "Akuntansi",
         "S1",
         "12"
        ],
        [
         "6",
         "Sekolah Tinggi Ilmu Ekonomi Ekadharma Indonesia",
         "Akuntansi",
         "S1",
         "04"
        ],
        [
         "7",
         "STMIK Rosma",
         "Komputerisasi Akuntansi",
         "D-III",
         "04"
        ],
        [
         "8",
         "UNIVERSITAS PANCASAKTI, MAKASSAR",
         "FARMASI",
         "S1",
         "09"
        ],
        [
         "9",
         "UNIVERSITAS MATARAM, MATARAM",
         "PULMONOLOGI DAN KEDOKTERAN RESPIRASI",
         "Spesialis",
         "PTN"
        ],
        [
         "10",
         "AKADEMI KEBIDANAN FARMAKO HUSADA AL-MUCTARI BOGOR, BEKASI",
         "KEBIDANAN",
         "D-III",
         "04"
        ],
        [
         "11",
         "Sekolah Tinggi Teologi IKAT Jakarta",
         "Kepemimpinan Kristen",
         "S2",
         "PTAS"
        ],
        [
         "12",
         "Universitas Muhammadiyah Gorontalo",
         "Akuakultur",
         "S1",
         "16"
        ],
        [
         "13",
         "Institut Maritim Prasetiya Mandiri",
         "Budidaya Perairan",
         "D-III",
         "02"
        ],
        [
         "14",
         "Universitas Persada Indonesia Yai",
         "Psikologi",
         "S2",
         "03"
        ],
        [
         "15",
         "Universitas Kristen Duta Wacana",
         "Teologi (Akademik)",
         "S3",
         "05"
        ],
        [
         "16",
         "Institut Al Fithrah Surabaya",
         "Ilmu Tasawuf",
         "S1",
         "PTAS"
        ],
        [
         "17",
         "Politeknik Unggulan Cipta Mandiri",
         "Perhotelan",
         "D-III",
         "01"
        ],
        [
         "18",
         "Universitas Muhammadiyah Bima",
         "Ilmu Hukum",
         "S1",
         "08"
        ],
        [
         "19",
         "Sekolah Tinggi Arsitektur YKPN Yogyakarta",
         "Gambar Arsitektur",
         "D-III",
         "05"
        ],
        [
         "20",
         "Universitas Tribhuwana Tungga Dewi",
         "Agribisnis",
         "S1",
         "07"
        ],
        [
         "21",
         "Universitas Sam Ratulangi",
         "Sastra Jerman",
         "S1",
         "PTN"
        ],
        [
         "22",
         "Universitas Muhammadiyah Aceh",
         "Arsitektur",
         "S1",
         "13"
        ],
        [
         "23",
         "Sekolah Tinggi Teologi Global Glow Indonesia Jakarta",
         "Teologi",
         "S3",
         "PTAS"
        ],
        [
         "24",
         "Universitas Negeri Semarang",
         "Statistika Dan Sains Data",
         "S1",
         "PTN"
        ],
        [
         "25",
         "Universitas Wahid Hasyim",
         "Hukum Ekonomi Syari'ah (Muamalah)",
         "S2",
         "06"
        ],
        [
         "26",
         "Institut Teknologi Sepuluh November",
         "Pendidikan Profesi Arsitek",
         "Profesi",
         "PTN"
        ],
        [
         "27",
         "Universitas Sanata Dharma",
         "Sastra",
         "S2",
         "05"
        ],
        [
         "28",
         "Universitas Halu Oleo",
         "Perencanaan Dan Pengembangan Wilayah",
         "S2",
         "PTN"
        ],
        [
         "29",
         "Politeknik Pariwisata NHI Bandung",
         "Pengelolaan Usaha Rekreasi",
         "D-IV",
         "PTKL"
        ],
        [
         "30",
         "Politeknik Pariwisata NHI Bandung",
         "Usaha Perjalanan Wisata",
         "D-IV",
         "PTKL"
        ],
        [
         "31",
         "Politeknik Perikanan Negeri Tual",
         "Teknologi Hasil Perikanan",
         "D-III",
         "PTN"
        ],
        [
         "32",
         "Sekolah Tinggi Teologi Reformed Indonesia",
         "Teologi (Akademik)",
         "S2",
         "PTAS"
        ],
        [
         "33",
         "Politeknik Kelautan Dan Perikanan Bitung",
         "Teknik Penangkapan Ikan",
         "D-III",
         "PTKL"
        ],
        [
         "34",
         "Universitas Abdurrab",
         "Ilmu Pemerintahan",
         "S1",
         "17"
        ],
        [
         "35",
         "Institut Teknologi Bandung",
         "Teknologi Nano",
         "S2",
         "PTN"
        ],
        [
         "36",
         "Politeknik Maritim Eka Utama Subang",
         "Manajemen Pelabuhan",
         "D-III",
         "04"
        ],
        [
         "37",
         "Universitas Satu Nusa Lampung",
         "Perhotelan",
         "D-III",
         "02"
        ],
        [
         "38",
         "Institut Sayyid Muhammad Alawi Al Maliki",
         "Hukum Ekonomi Syariah (Mu`amalah)",
         "S1",
         "PTAS"
        ],
        [
         "39",
         "Institut Sayyid Muhammad Alawi Al Maliki",
         "Hukum Keluarga Islam (Ahwal Syakhshiyyah)",
         "S1",
         "PTAS"
        ],
        [
         "40",
         "Universitas Abdurrab",
         "Psikologi",
         "S1",
         "17"
        ],
        [
         "41",
         "Universitas Islam Al-Aziziyah Indonesia",
         "Ekonomi Syariah",
         "S1",
         "PTAS"
        ],
        [
         "42",
         "Institut Teknologi Bandung",
         "Ilmu Seni Rupa Dan Desain",
         "S3",
         "PTN"
        ],
        [
         "43",
         "Politeknik Negeri Banyuwangi",
         "Destinasi Pariwisata",
         "D-IV",
         "PTN"
        ],
        [
         "44",
         "Universitas HKBP Nommensen",
         "Teknologi Hasil Pertanian",
         "S1",
         "01"
        ],
        [
         "45",
         "Sekolah Tinggi Agama Islam Pelita Nusa Bandung Barat",
         "Perbankan Syariah",
         "S1",
         "PTAS"
        ],
        [
         "46",
         "Sekolah Tinggi Agama Islam Pelita Nusa Bandung Barat",
         "Ekonomi Syari'ah",
         "S1",
         "PTAS"
        ],
        [
         "47",
         "Universitas Islam Syekh-Yusuf",
         "Administrasi Publik",
         "S1",
         "04"
        ],
        [
         "48",
         "Sekolah Tinggi Agama Islam Dirosat Islamiyah Al-Hikmah Jakarta",
         "Ilmu Al-Qur'an Dan Tafsir",
         "S1",
         "PTAS"
        ],
        [
         "49",
         "Sekolah Tinggi Agama Islam Dirosat Islamiyah Al-Hikmah Jakarta",
         "Komunikasi Dan Penyiaran Islam",
         "S1",
         "PTAS"
        ]
       ],
       "shape": {
        "columns": 4,
        "rows": 33688
       }
      },
      "text/html": [
       "<div>\n",
       "<style scoped>\n",
       "    .dataframe tbody tr th:only-of-type {\n",
       "        vertical-align: middle;\n",
       "    }\n",
       "\n",
       "    .dataframe tbody tr th {\n",
       "        vertical-align: top;\n",
       "    }\n",
       "\n",
       "    .dataframe thead th {\n",
       "        text-align: right;\n",
       "    }\n",
       "</style>\n",
       "<table border=\"1\" class=\"dataframe\">\n",
       "  <thead>\n",
       "    <tr style=\"text-align: right;\">\n",
       "      <th></th>\n",
       "      <th>Universitas</th>\n",
       "      <th>Prodi</th>\n",
       "      <th>Jenjang</th>\n",
       "      <th>Status</th>\n",
       "    </tr>\n",
       "  </thead>\n",
       "  <tbody>\n",
       "    <tr>\n",
       "      <th>0</th>\n",
       "      <td>POLITEKNIK ANGKATAN LAUT, SURABAYA</td>\n",
       "      <td>FARMASI</td>\n",
       "      <td>D-III</td>\n",
       "      <td>PTKL</td>\n",
       "    </tr>\n",
       "    <tr>\n",
       "      <th>1</th>\n",
       "      <td>Universitas Brawijaya</td>\n",
       "      <td>Pendidikan Profesi Arsitek</td>\n",
       "      <td>Profesi</td>\n",
       "      <td>PTN</td>\n",
       "    </tr>\n",
       "    <tr>\n",
       "      <th>2</th>\n",
       "      <td>Sekolah Tinggi Agama Kristen Protestan Negeri ...</td>\n",
       "      <td>Pendidikan Agama Kristen</td>\n",
       "      <td>S1</td>\n",
       "      <td>PTAN</td>\n",
       "    </tr>\n",
       "    <tr>\n",
       "      <th>3</th>\n",
       "      <td>Universitas Lambung Mangkurat</td>\n",
       "      <td>Administrasi Bisnis</td>\n",
       "      <td>S2</td>\n",
       "      <td>PTN</td>\n",
       "    </tr>\n",
       "    <tr>\n",
       "      <th>4</th>\n",
       "      <td>Sekolah Tinggi Ilmu Ekonomi Tri Dharma Widya</td>\n",
       "      <td>Akuntansi</td>\n",
       "      <td>S1</td>\n",
       "      <td>03</td>\n",
       "    </tr>\n",
       "    <tr>\n",
       "      <th>...</th>\n",
       "      <td>...</td>\n",
       "      <td>...</td>\n",
       "      <td>...</td>\n",
       "      <td>...</td>\n",
       "    </tr>\n",
       "    <tr>\n",
       "      <th>33683</th>\n",
       "      <td>STMIK Musi Rawas</td>\n",
       "      <td>Teknik Informatika</td>\n",
       "      <td>S1</td>\n",
       "      <td>02</td>\n",
       "    </tr>\n",
       "    <tr>\n",
       "      <th>33684</th>\n",
       "      <td>UNIVERSITAS INDONESIA, JAKARTA</td>\n",
       "      <td>KEDOKTERAN</td>\n",
       "      <td>S1</td>\n",
       "      <td>PTN</td>\n",
       "    </tr>\n",
       "    <tr>\n",
       "      <th>33685</th>\n",
       "      <td>UNIVERSITAS INDONESIA, JAKARTA</td>\n",
       "      <td>DOKTER</td>\n",
       "      <td>Profesi</td>\n",
       "      <td>PTN</td>\n",
       "    </tr>\n",
       "    <tr>\n",
       "      <th>33686</th>\n",
       "      <td>Universitas Bina Bangsa</td>\n",
       "      <td>Pendidikan Ilmu Pengetahuan Sosial</td>\n",
       "      <td>S1</td>\n",
       "      <td>04</td>\n",
       "    </tr>\n",
       "    <tr>\n",
       "      <th>33687</th>\n",
       "      <td>Universitas Bina Bangsa</td>\n",
       "      <td>Pendidikan Jasmani</td>\n",
       "      <td>S1</td>\n",
       "      <td>04</td>\n",
       "    </tr>\n",
       "  </tbody>\n",
       "</table>\n",
       "<p>33688 rows × 4 columns</p>\n",
       "</div>"
      ],
      "text/plain": [
       "                                             Universitas  \\\n",
       "0                     POLITEKNIK ANGKATAN LAUT, SURABAYA   \n",
       "1                                  Universitas Brawijaya   \n",
       "2      Sekolah Tinggi Agama Kristen Protestan Negeri ...   \n",
       "3                          Universitas Lambung Mangkurat   \n",
       "4           Sekolah Tinggi Ilmu Ekonomi Tri Dharma Widya   \n",
       "...                                                  ...   \n",
       "33683                                   STMIK Musi Rawas   \n",
       "33684                     UNIVERSITAS INDONESIA, JAKARTA   \n",
       "33685                     UNIVERSITAS INDONESIA, JAKARTA   \n",
       "33686                            Universitas Bina Bangsa   \n",
       "33687                            Universitas Bina Bangsa   \n",
       "\n",
       "                                    Prodi  Jenjang Status  \n",
       "0                                 FARMASI    D-III   PTKL  \n",
       "1              Pendidikan Profesi Arsitek  Profesi    PTN  \n",
       "2                Pendidikan Agama Kristen       S1   PTAN  \n",
       "3                     Administrasi Bisnis       S2    PTN  \n",
       "4                               Akuntansi       S1     03  \n",
       "...                                   ...      ...    ...  \n",
       "33683                  Teknik Informatika       S1     02  \n",
       "33684                          KEDOKTERAN       S1    PTN  \n",
       "33685                              DOKTER  Profesi    PTN  \n",
       "33686  Pendidikan Ilmu Pengetahuan Sosial       S1     04  \n",
       "33687                  Pendidikan Jasmani       S1     04  \n",
       "\n",
       "[33688 rows x 4 columns]"
      ]
     },
     "execution_count": 37,
     "metadata": {},
     "output_type": "execute_result"
    }
   ],
   "source": [
    "major"
   ]
  },
  {
   "cell_type": "code",
   "execution_count": 38,
   "id": "a2a579c2",
   "metadata": {},
   "outputs": [
    {
     "data": {
      "application/vnd.microsoft.datawrangler.viewer.v0+json": {
       "columns": [
        {
         "name": "index",
         "rawType": "int64",
         "type": "integer"
        },
        {
         "name": "Rank",
         "rawType": "object",
         "type": "string"
        },
        {
         "name": "University",
         "rawType": "object",
         "type": "string"
        }
       ],
       "ref": "a17c1c6c-44bf-4fb2-95d1-ee0fb08a32cc",
       "rows": [
        [
         "0",
         "189",
         "Universitas Indonesia"
        ],
        [
         "1",
         "224",
         "Gadjah Mada University"
        ],
        [
         "2",
         "255",
         "Institut Teknologi Bandung (ITB)"
        ],
        [
         "3",
         "=287",
         "Universitas Airlangga"
        ],
        [
         "4",
         "399",
         "IPB University (aka Bogor Agricultural University)"
        ],
        [
         "5",
         "=509",
         "Institut Teknologi Sepuluh Nopember (ITS Surabaya)"
        ],
        [
         "6",
         "=515",
         "Universitas Padjadjaran (UNPAD)"
        ],
        [
         "7",
         "=624",
         "Diponegoro University"
        ],
        [
         "8",
         "=680",
         "Universitas Brawijaya"
        ],
        [
         "9",
         "851-900",
         "Bina Nusantara University (BINUS)"
        ],
        [
         "10",
         "951-1000",
         "Universitas Hasanuddin"
        ],
        [
         "11",
         "1001-1200",
         "Telkom University"
        ],
        [
         "12",
         "1001-1200",
         "Universitas Sebelas Maret"
        ],
        [
         "13",
         "1001-1200",
         "Universitas Sumatera Utara"
        ],
        [
         "14",
         "1201-1400",
         "Institut Teknologi Nasional Bandung (ITENAS Bandung)"
        ],
        [
         "15",
         "1201-1400",
         "Universitas Muhammadiyah Yogyakarta"
        ],
        [
         "16",
         "1201-1400",
         "Universitas Pendidikan Indonesia"
        ],
        [
         "17",
         "1201-1400",
         "Universitas Trisakti (USAKTI)"
        ],
        [
         "18",
         "1201-1400",
         "Universitas Negeri Yogyakarta"
        ],
        [
         "19",
         "1401+",
         "Atma Jaya Catholic University of Indonesia"
        ],
        [
         "20",
         "1401+",
         "Universitas Negeri Padang"
        ],
        [
         "21",
         "1401+",
         "State University of Malang (Universitas Negeri Malang)"
        ],
        [
         "22",
         "1401+",
         "Universitas Syiah Kuala"
        ],
        [
         "23",
         "1401+",
         "Universitas Andalas"
        ],
        [
         "24",
         "1401+",
         "Universitas Islam Indonesia"
        ],
        [
         "25",
         "1401+",
         "Petra Christian University"
        ]
       ],
       "shape": {
        "columns": 2,
        "rows": 26
       }
      },
      "text/html": [
       "<div>\n",
       "<style scoped>\n",
       "    .dataframe tbody tr th:only-of-type {\n",
       "        vertical-align: middle;\n",
       "    }\n",
       "\n",
       "    .dataframe tbody tr th {\n",
       "        vertical-align: top;\n",
       "    }\n",
       "\n",
       "    .dataframe thead th {\n",
       "        text-align: right;\n",
       "    }\n",
       "</style>\n",
       "<table border=\"1\" class=\"dataframe\">\n",
       "  <thead>\n",
       "    <tr style=\"text-align: right;\">\n",
       "      <th></th>\n",
       "      <th>Rank</th>\n",
       "      <th>University</th>\n",
       "    </tr>\n",
       "  </thead>\n",
       "  <tbody>\n",
       "    <tr>\n",
       "      <th>0</th>\n",
       "      <td>189</td>\n",
       "      <td>Universitas Indonesia</td>\n",
       "    </tr>\n",
       "    <tr>\n",
       "      <th>1</th>\n",
       "      <td>224</td>\n",
       "      <td>Gadjah Mada University</td>\n",
       "    </tr>\n",
       "    <tr>\n",
       "      <th>2</th>\n",
       "      <td>255</td>\n",
       "      <td>Institut Teknologi Bandung (ITB)</td>\n",
       "    </tr>\n",
       "    <tr>\n",
       "      <th>3</th>\n",
       "      <td>=287</td>\n",
       "      <td>Universitas Airlangga</td>\n",
       "    </tr>\n",
       "    <tr>\n",
       "      <th>4</th>\n",
       "      <td>399</td>\n",
       "      <td>IPB University (aka Bogor Agricultural Univers...</td>\n",
       "    </tr>\n",
       "    <tr>\n",
       "      <th>5</th>\n",
       "      <td>=509</td>\n",
       "      <td>Institut Teknologi Sepuluh Nopember (ITS Surab...</td>\n",
       "    </tr>\n",
       "    <tr>\n",
       "      <th>6</th>\n",
       "      <td>=515</td>\n",
       "      <td>Universitas Padjadjaran (UNPAD)</td>\n",
       "    </tr>\n",
       "    <tr>\n",
       "      <th>7</th>\n",
       "      <td>=624</td>\n",
       "      <td>Diponegoro University</td>\n",
       "    </tr>\n",
       "    <tr>\n",
       "      <th>8</th>\n",
       "      <td>=680</td>\n",
       "      <td>Universitas Brawijaya</td>\n",
       "    </tr>\n",
       "    <tr>\n",
       "      <th>9</th>\n",
       "      <td>851-900</td>\n",
       "      <td>Bina Nusantara University (BINUS)</td>\n",
       "    </tr>\n",
       "    <tr>\n",
       "      <th>10</th>\n",
       "      <td>951-1000</td>\n",
       "      <td>Universitas Hasanuddin</td>\n",
       "    </tr>\n",
       "    <tr>\n",
       "      <th>11</th>\n",
       "      <td>1001-1200</td>\n",
       "      <td>Telkom University</td>\n",
       "    </tr>\n",
       "    <tr>\n",
       "      <th>12</th>\n",
       "      <td>1001-1200</td>\n",
       "      <td>Universitas Sebelas Maret</td>\n",
       "    </tr>\n",
       "    <tr>\n",
       "      <th>13</th>\n",
       "      <td>1001-1200</td>\n",
       "      <td>Universitas Sumatera Utara</td>\n",
       "    </tr>\n",
       "    <tr>\n",
       "      <th>14</th>\n",
       "      <td>1201-1400</td>\n",
       "      <td>Institut Teknologi Nasional Bandung (ITENAS Ba...</td>\n",
       "    </tr>\n",
       "    <tr>\n",
       "      <th>15</th>\n",
       "      <td>1201-1400</td>\n",
       "      <td>Universitas Muhammadiyah Yogyakarta</td>\n",
       "    </tr>\n",
       "    <tr>\n",
       "      <th>16</th>\n",
       "      <td>1201-1400</td>\n",
       "      <td>Universitas Pendidikan Indonesia</td>\n",
       "    </tr>\n",
       "    <tr>\n",
       "      <th>17</th>\n",
       "      <td>1201-1400</td>\n",
       "      <td>Universitas Trisakti (USAKTI)</td>\n",
       "    </tr>\n",
       "    <tr>\n",
       "      <th>18</th>\n",
       "      <td>1201-1400</td>\n",
       "      <td>Universitas Negeri Yogyakarta</td>\n",
       "    </tr>\n",
       "    <tr>\n",
       "      <th>19</th>\n",
       "      <td>1401+</td>\n",
       "      <td>Atma Jaya Catholic University of Indonesia</td>\n",
       "    </tr>\n",
       "    <tr>\n",
       "      <th>20</th>\n",
       "      <td>1401+</td>\n",
       "      <td>Universitas Negeri Padang</td>\n",
       "    </tr>\n",
       "    <tr>\n",
       "      <th>21</th>\n",
       "      <td>1401+</td>\n",
       "      <td>State University of Malang (Universitas Negeri...</td>\n",
       "    </tr>\n",
       "    <tr>\n",
       "      <th>22</th>\n",
       "      <td>1401+</td>\n",
       "      <td>Universitas Syiah Kuala</td>\n",
       "    </tr>\n",
       "    <tr>\n",
       "      <th>23</th>\n",
       "      <td>1401+</td>\n",
       "      <td>Universitas Andalas</td>\n",
       "    </tr>\n",
       "    <tr>\n",
       "      <th>24</th>\n",
       "      <td>1401+</td>\n",
       "      <td>Universitas Islam Indonesia</td>\n",
       "    </tr>\n",
       "    <tr>\n",
       "      <th>25</th>\n",
       "      <td>1401+</td>\n",
       "      <td>Petra Christian University</td>\n",
       "    </tr>\n",
       "  </tbody>\n",
       "</table>\n",
       "</div>"
      ],
      "text/plain": [
       "         Rank                                         University\n",
       "0         189                              Universitas Indonesia\n",
       "1         224                             Gadjah Mada University\n",
       "2         255                   Institut Teknologi Bandung (ITB)\n",
       "3        =287                              Universitas Airlangga\n",
       "4         399  IPB University (aka Bogor Agricultural Univers...\n",
       "5        =509  Institut Teknologi Sepuluh Nopember (ITS Surab...\n",
       "6        =515                    Universitas Padjadjaran (UNPAD)\n",
       "7        =624                              Diponegoro University\n",
       "8        =680                              Universitas Brawijaya\n",
       "9     851-900                  Bina Nusantara University (BINUS)\n",
       "10   951-1000                             Universitas Hasanuddin\n",
       "11  1001-1200                                  Telkom University\n",
       "12  1001-1200                          Universitas Sebelas Maret\n",
       "13  1001-1200                         Universitas Sumatera Utara\n",
       "14  1201-1400  Institut Teknologi Nasional Bandung (ITENAS Ba...\n",
       "15  1201-1400                Universitas Muhammadiyah Yogyakarta\n",
       "16  1201-1400                   Universitas Pendidikan Indonesia\n",
       "17  1201-1400                      Universitas Trisakti (USAKTI)\n",
       "18  1201-1400                      Universitas Negeri Yogyakarta\n",
       "19      1401+         Atma Jaya Catholic University of Indonesia\n",
       "20      1401+                          Universitas Negeri Padang\n",
       "21      1401+  State University of Malang (Universitas Negeri...\n",
       "22      1401+                            Universitas Syiah Kuala\n",
       "23      1401+                                Universitas Andalas\n",
       "24      1401+                        Universitas Islam Indonesia\n",
       "25      1401+                         Petra Christian University"
      ]
     },
     "execution_count": 38,
     "metadata": {},
     "output_type": "execute_result"
    }
   ],
   "source": [
    "rank"
   ]
  },
  {
   "cell_type": "code",
   "execution_count": 39,
   "id": "787709d8",
   "metadata": {},
   "outputs": [
    {
     "data": {
      "text/plain": [
       "array(['D-III', 'Profesi', 'S1', 'S2', 'Spesialis', 'S3', 'D-IV', 'D4',\n",
       "       'Subspesialis', '-', 'D-II', 'D-I', 'S2 Terapan', 'S3 Terapan',\n",
       "       'D3', 'Pro.', 'S1 Terapan', 'Sarjana', 'Magister', 'Diploma-III',\n",
       "       'Sarjana Terapan'], dtype=object)"
      ]
     },
     "execution_count": 39,
     "metadata": {},
     "output_type": "execute_result"
    }
   ],
   "source": [
    "major['Jenjang'].unique()"
   ]
  },
  {
   "cell_type": "code",
   "execution_count": 41,
   "id": "89960efd",
   "metadata": {},
   "outputs": [],
   "source": [
    "excluded_jenjang = [\n",
    "    'Profesi', 'S2', 'Spesialis', 'S3', 'Subspesialis', '-', \n",
    "    'S2 Terapan', 'S3 Terapan', 'Pro.', 'Magister'\n",
    "]\n",
    "\n",
    "major = major[~major['Jenjang'].isin(excluded_jenjang)].reset_index(drop=True)"
   ]
  },
  {
   "cell_type": "code",
   "execution_count": 43,
   "id": "fa38d9ba",
   "metadata": {},
   "outputs": [],
   "source": [
    "import re\n",
    "\n",
    "def clean_text(text):\n",
    "    if not isinstance(text, str):\n",
    "        return \"\"\n",
    "    text = re.sub(r\"\\([^)]*\\)\", \"\", text)\n",
    "    text = text.split(\",\")[0]\n",
    "    text = text.lower()\n",
    "    text = re.sub(r\"[^a-z0-9\\s]\", \"\", text)\n",
    "    text = re.sub(r\"\\s+\", \" \", text).strip()\n",
    "    \n",
    "    return text"
   ]
  },
  {
   "cell_type": "code",
   "execution_count": 44,
   "id": "5c498fdc",
   "metadata": {},
   "outputs": [],
   "source": [
    "major['Universitas'] = major['Universitas'].apply(clean_text)\n",
    "rank['University'] = rank['University'].apply(clean_text)"
   ]
  },
  {
   "cell_type": "code",
   "execution_count": 45,
   "id": "6507c096",
   "metadata": {},
   "outputs": [
    {
     "data": {
      "application/vnd.microsoft.datawrangler.viewer.v0+json": {
       "columns": [
        {
         "name": "index",
         "rawType": "int64",
         "type": "integer"
        },
        {
         "name": "Universitas",
         "rawType": "object",
         "type": "string"
        },
        {
         "name": "Prodi",
         "rawType": "object",
         "type": "unknown"
        },
        {
         "name": "Jenjang",
         "rawType": "object",
         "type": "string"
        },
        {
         "name": "Status",
         "rawType": "object",
         "type": "unknown"
        }
       ],
       "ref": "86aceb08-c8ef-4cae-b9e5-ca5c0e5b3e2b",
       "rows": [
        [
         "0",
         "politeknik angkatan laut",
         "FARMASI",
         "D-III",
         "PTKL"
        ],
        [
         "1",
         "sekolah tinggi agama kristen protestan negeri sentani",
         "Pendidikan Agama Kristen",
         "S1",
         "PTAN"
        ],
        [
         "2",
         "sekolah tinggi ilmu ekonomi tri dharma widya",
         "Akuntansi",
         "S1",
         "03"
        ],
        [
         "3",
         "universitas pasifik morotai",
         "Akuntansi",
         "S1",
         "12"
        ],
        [
         "4",
         "sekolah tinggi ilmu ekonomi ekadharma indonesia",
         "Akuntansi",
         "S1",
         "04"
        ],
        [
         "5",
         "stmik rosma",
         "Komputerisasi Akuntansi",
         "D-III",
         "04"
        ],
        [
         "6",
         "universitas pancasakti",
         "FARMASI",
         "S1",
         "09"
        ],
        [
         "7",
         "akademi kebidanan farmako husada almuctari bogor",
         "KEBIDANAN",
         "D-III",
         "04"
        ],
        [
         "8",
         "universitas muhammadiyah gorontalo",
         "Akuakultur",
         "S1",
         "16"
        ],
        [
         "9",
         "institut maritim prasetiya mandiri",
         "Budidaya Perairan",
         "D-III",
         "02"
        ],
        [
         "10",
         "institut al fithrah surabaya",
         "Ilmu Tasawuf",
         "S1",
         "PTAS"
        ],
        [
         "11",
         "politeknik unggulan cipta mandiri",
         "Perhotelan",
         "D-III",
         "01"
        ],
        [
         "12",
         "universitas muhammadiyah bima",
         "Ilmu Hukum",
         "S1",
         "08"
        ],
        [
         "13",
         "sekolah tinggi arsitektur ykpn yogyakarta",
         "Gambar Arsitektur",
         "D-III",
         "05"
        ],
        [
         "14",
         "universitas tribhuwana tungga dewi",
         "Agribisnis",
         "S1",
         "07"
        ],
        [
         "15",
         "universitas sam ratulangi",
         "Sastra Jerman",
         "S1",
         "PTN"
        ],
        [
         "16",
         "universitas muhammadiyah aceh",
         "Arsitektur",
         "S1",
         "13"
        ],
        [
         "17",
         "universitas negeri semarang",
         "Statistika Dan Sains Data",
         "S1",
         "PTN"
        ],
        [
         "18",
         "politeknik pariwisata nhi bandung",
         "Pengelolaan Usaha Rekreasi",
         "D-IV",
         "PTKL"
        ],
        [
         "19",
         "politeknik pariwisata nhi bandung",
         "Usaha Perjalanan Wisata",
         "D-IV",
         "PTKL"
        ],
        [
         "20",
         "politeknik perikanan negeri tual",
         "Teknologi Hasil Perikanan",
         "D-III",
         "PTN"
        ],
        [
         "21",
         "politeknik kelautan dan perikanan bitung",
         "Teknik Penangkapan Ikan",
         "D-III",
         "PTKL"
        ],
        [
         "22",
         "universitas abdurrab",
         "Ilmu Pemerintahan",
         "S1",
         "17"
        ],
        [
         "23",
         "politeknik maritim eka utama subang",
         "Manajemen Pelabuhan",
         "D-III",
         "04"
        ],
        [
         "24",
         "universitas satu nusa lampung",
         "Perhotelan",
         "D-III",
         "02"
        ],
        [
         "25",
         "institut sayyid muhammad alawi al maliki",
         "Hukum Ekonomi Syariah (Mu`amalah)",
         "S1",
         "PTAS"
        ],
        [
         "26",
         "institut sayyid muhammad alawi al maliki",
         "Hukum Keluarga Islam (Ahwal Syakhshiyyah)",
         "S1",
         "PTAS"
        ],
        [
         "27",
         "universitas abdurrab",
         "Psikologi",
         "S1",
         "17"
        ],
        [
         "28",
         "universitas islam alaziziyah indonesia",
         "Ekonomi Syariah",
         "S1",
         "PTAS"
        ],
        [
         "29",
         "politeknik negeri banyuwangi",
         "Destinasi Pariwisata",
         "D-IV",
         "PTN"
        ],
        [
         "30",
         "universitas hkbp nommensen",
         "Teknologi Hasil Pertanian",
         "S1",
         "01"
        ],
        [
         "31",
         "sekolah tinggi agama islam pelita nusa bandung barat",
         "Perbankan Syariah",
         "S1",
         "PTAS"
        ],
        [
         "32",
         "sekolah tinggi agama islam pelita nusa bandung barat",
         "Ekonomi Syari'ah",
         "S1",
         "PTAS"
        ],
        [
         "33",
         "universitas islam syekhyusuf",
         "Administrasi Publik",
         "S1",
         "04"
        ],
        [
         "34",
         "sekolah tinggi agama islam dirosat islamiyah alhikmah jakarta",
         "Ilmu Al-Qur'an Dan Tafsir",
         "S1",
         "PTAS"
        ],
        [
         "35",
         "sekolah tinggi agama islam dirosat islamiyah alhikmah jakarta",
         "Komunikasi Dan Penyiaran Islam",
         "S1",
         "PTAS"
        ],
        [
         "36",
         "institut al fithrah surabaya",
         "Komunikasi Dan Penyiaran Islam",
         "S1",
         "PTAS"
        ],
        [
         "37",
         "universitas diponegoro",
         "Ilmu Perpustakaan Dan Informasi",
         "S1",
         "PTN"
        ],
        [
         "38",
         "politeknik statistika stis",
         "Komputasi Statistik",
         "D4",
         "PTKL"
        ],
        [
         "39",
         "politeknik sandi karsa",
         "TEKNOLOGI RADIOLOGI PENCITRAAN",
         "D-IV",
         "09"
        ],
        [
         "40",
         "politeknik kesehatan kementerian kesehatan medan",
         "KEBIDANAN",
         "D-IV",
         "PTKL"
        ],
        [
         "41",
         "politeknik kesehatan kementerian kesehatan kendari",
         "GIZI DAN DIETETIKA",
         "D-IV",
         "PTKL"
        ],
        [
         "42",
         "politeknik kesehatan kementerian kesehatan kalimantan timur",
         "KEBIDANAN",
         "D-IV",
         "PTKL"
        ],
        [
         "43",
         "institut kesehatan dan teknologi pondok karya pembangunan",
         "KESELAMATAN DAN KESEHATAN KERJA",
         "D-IV",
         "03"
        ],
        [
         "44",
         "universitas kristen indonesia paulus",
         "Sistem Informasi",
         "S1",
         "09"
        ],
        [
         "45",
         "universitas safin pati",
         "Sistem Informasi",
         "S1",
         "06"
        ],
        [
         "46",
         "sekolah tinggi teknologi bontang",
         "Sistem Informasi",
         "S1",
         "11"
        ],
        [
         "47",
         "universitas sipatokkong mambo",
         "ILMU KEPERAWATAN",
         "S1",
         "09"
        ],
        [
         "48",
         "universitas sebelas maret",
         "KEPERAWATAN ANESTESIOLOGI",
         "D-IV",
         "PTN"
        ],
        [
         "49",
         "universitas sebelas maret",
         "KEDOKTERAN",
         "S1",
         "PTN"
        ]
       ],
       "shape": {
        "columns": 4,
        "rows": 26795
       }
      },
      "text/html": [
       "<div>\n",
       "<style scoped>\n",
       "    .dataframe tbody tr th:only-of-type {\n",
       "        vertical-align: middle;\n",
       "    }\n",
       "\n",
       "    .dataframe tbody tr th {\n",
       "        vertical-align: top;\n",
       "    }\n",
       "\n",
       "    .dataframe thead th {\n",
       "        text-align: right;\n",
       "    }\n",
       "</style>\n",
       "<table border=\"1\" class=\"dataframe\">\n",
       "  <thead>\n",
       "    <tr style=\"text-align: right;\">\n",
       "      <th></th>\n",
       "      <th>Universitas</th>\n",
       "      <th>Prodi</th>\n",
       "      <th>Jenjang</th>\n",
       "      <th>Status</th>\n",
       "    </tr>\n",
       "  </thead>\n",
       "  <tbody>\n",
       "    <tr>\n",
       "      <th>0</th>\n",
       "      <td>politeknik angkatan laut</td>\n",
       "      <td>FARMASI</td>\n",
       "      <td>D-III</td>\n",
       "      <td>PTKL</td>\n",
       "    </tr>\n",
       "    <tr>\n",
       "      <th>1</th>\n",
       "      <td>sekolah tinggi agama kristen protestan negeri ...</td>\n",
       "      <td>Pendidikan Agama Kristen</td>\n",
       "      <td>S1</td>\n",
       "      <td>PTAN</td>\n",
       "    </tr>\n",
       "    <tr>\n",
       "      <th>2</th>\n",
       "      <td>sekolah tinggi ilmu ekonomi tri dharma widya</td>\n",
       "      <td>Akuntansi</td>\n",
       "      <td>S1</td>\n",
       "      <td>03</td>\n",
       "    </tr>\n",
       "    <tr>\n",
       "      <th>3</th>\n",
       "      <td>universitas pasifik morotai</td>\n",
       "      <td>Akuntansi</td>\n",
       "      <td>S1</td>\n",
       "      <td>12</td>\n",
       "    </tr>\n",
       "    <tr>\n",
       "      <th>4</th>\n",
       "      <td>sekolah tinggi ilmu ekonomi ekadharma indonesia</td>\n",
       "      <td>Akuntansi</td>\n",
       "      <td>S1</td>\n",
       "      <td>04</td>\n",
       "    </tr>\n",
       "    <tr>\n",
       "      <th>...</th>\n",
       "      <td>...</td>\n",
       "      <td>...</td>\n",
       "      <td>...</td>\n",
       "      <td>...</td>\n",
       "    </tr>\n",
       "    <tr>\n",
       "      <th>26790</th>\n",
       "      <td>stai bakti negara tegal</td>\n",
       "      <td>Pendidikan Agama Islam</td>\n",
       "      <td>S1</td>\n",
       "      <td>PTAS</td>\n",
       "    </tr>\n",
       "    <tr>\n",
       "      <th>26791</th>\n",
       "      <td>stmik musi rawas</td>\n",
       "      <td>Teknik Informatika</td>\n",
       "      <td>S1</td>\n",
       "      <td>02</td>\n",
       "    </tr>\n",
       "    <tr>\n",
       "      <th>26792</th>\n",
       "      <td>universitas indonesia</td>\n",
       "      <td>KEDOKTERAN</td>\n",
       "      <td>S1</td>\n",
       "      <td>PTN</td>\n",
       "    </tr>\n",
       "    <tr>\n",
       "      <th>26793</th>\n",
       "      <td>universitas bina bangsa</td>\n",
       "      <td>Pendidikan Ilmu Pengetahuan Sosial</td>\n",
       "      <td>S1</td>\n",
       "      <td>04</td>\n",
       "    </tr>\n",
       "    <tr>\n",
       "      <th>26794</th>\n",
       "      <td>universitas bina bangsa</td>\n",
       "      <td>Pendidikan Jasmani</td>\n",
       "      <td>S1</td>\n",
       "      <td>04</td>\n",
       "    </tr>\n",
       "  </tbody>\n",
       "</table>\n",
       "<p>26795 rows × 4 columns</p>\n",
       "</div>"
      ],
      "text/plain": [
       "                                             Universitas  \\\n",
       "0                               politeknik angkatan laut   \n",
       "1      sekolah tinggi agama kristen protestan negeri ...   \n",
       "2           sekolah tinggi ilmu ekonomi tri dharma widya   \n",
       "3                            universitas pasifik morotai   \n",
       "4        sekolah tinggi ilmu ekonomi ekadharma indonesia   \n",
       "...                                                  ...   \n",
       "26790                            stai bakti negara tegal   \n",
       "26791                                   stmik musi rawas   \n",
       "26792                              universitas indonesia   \n",
       "26793                            universitas bina bangsa   \n",
       "26794                            universitas bina bangsa   \n",
       "\n",
       "                                    Prodi Jenjang Status  \n",
       "0                                 FARMASI   D-III   PTKL  \n",
       "1                Pendidikan Agama Kristen      S1   PTAN  \n",
       "2                               Akuntansi      S1     03  \n",
       "3                               Akuntansi      S1     12  \n",
       "4                               Akuntansi      S1     04  \n",
       "...                                   ...     ...    ...  \n",
       "26790              Pendidikan Agama Islam      S1   PTAS  \n",
       "26791                  Teknik Informatika      S1     02  \n",
       "26792                          KEDOKTERAN      S1    PTN  \n",
       "26793  Pendidikan Ilmu Pengetahuan Sosial      S1     04  \n",
       "26794                  Pendidikan Jasmani      S1     04  \n",
       "\n",
       "[26795 rows x 4 columns]"
      ]
     },
     "execution_count": 45,
     "metadata": {},
     "output_type": "execute_result"
    }
   ],
   "source": [
    "major"
   ]
  },
  {
   "cell_type": "code",
   "execution_count": 47,
   "id": "e8902f97",
   "metadata": {},
   "outputs": [
    {
     "data": {
      "application/vnd.microsoft.datawrangler.viewer.v0+json": {
       "columns": [
        {
         "name": "index",
         "rawType": "int64",
         "type": "integer"
        },
        {
         "name": "Rank",
         "rawType": "object",
         "type": "string"
        },
        {
         "name": "University",
         "rawType": "object",
         "type": "string"
        }
       ],
       "ref": "a95a8dc3-0826-41ab-b0e3-01d02904869f",
       "rows": [
        [
         "0",
         "189",
         "universitas indonesia"
        ],
        [
         "1",
         "224",
         "universitas gadjah mada"
        ],
        [
         "2",
         "255",
         "institut teknologi bandung"
        ],
        [
         "3",
         "=287",
         "universitas airlangga"
        ],
        [
         "4",
         "399",
         "institut pertanian bogor"
        ],
        [
         "5",
         "=509",
         "institut teknologi sepuluh nopember"
        ],
        [
         "6",
         "=515",
         "universitas padjadjaran"
        ],
        [
         "7",
         "=624",
         "universitas diponegoro"
        ],
        [
         "8",
         "=680",
         "universitas brawijaya"
        ],
        [
         "9",
         "851-900",
         "universitas bina nusantara"
        ],
        [
         "10",
         "951-1000",
         "universitas hasanuddin"
        ],
        [
         "11",
         "1001-1200",
         "telkom university"
        ],
        [
         "12",
         "1001-1200",
         "universitas sebelas maret"
        ],
        [
         "13",
         "1001-1200",
         "universitas sumatera utara"
        ],
        [
         "14",
         "1201-1400",
         "institut teknologi nasional bandung"
        ],
        [
         "15",
         "1201-1400",
         "universitas muhammadiyah yogyakarta"
        ],
        [
         "16",
         "1201-1400",
         "universitas pendidikan indonesia"
        ],
        [
         "17",
         "1201-1400",
         "universitas trisakti"
        ],
        [
         "18",
         "1201-1400",
         "universitas negeri yogyakarta"
        ],
        [
         "19",
         "1401+",
         "universitas katolik indonesia atma jaya"
        ],
        [
         "20",
         "1401+",
         "universitas negeri padang"
        ],
        [
         "21",
         "1401+",
         "universitas negeri malang"
        ],
        [
         "22",
         "1401+",
         "universitas syiah kuala"
        ],
        [
         "23",
         "1401+",
         "universitas andalas"
        ],
        [
         "24",
         "1401+",
         "universitas islam indonesia"
        ],
        [
         "25",
         "1401+",
         "universitas kristen petra"
        ]
       ],
       "shape": {
        "columns": 2,
        "rows": 26
       }
      },
      "text/html": [
       "<div>\n",
       "<style scoped>\n",
       "    .dataframe tbody tr th:only-of-type {\n",
       "        vertical-align: middle;\n",
       "    }\n",
       "\n",
       "    .dataframe tbody tr th {\n",
       "        vertical-align: top;\n",
       "    }\n",
       "\n",
       "    .dataframe thead th {\n",
       "        text-align: right;\n",
       "    }\n",
       "</style>\n",
       "<table border=\"1\" class=\"dataframe\">\n",
       "  <thead>\n",
       "    <tr style=\"text-align: right;\">\n",
       "      <th></th>\n",
       "      <th>Rank</th>\n",
       "      <th>University</th>\n",
       "    </tr>\n",
       "  </thead>\n",
       "  <tbody>\n",
       "    <tr>\n",
       "      <th>0</th>\n",
       "      <td>189</td>\n",
       "      <td>universitas indonesia</td>\n",
       "    </tr>\n",
       "    <tr>\n",
       "      <th>1</th>\n",
       "      <td>224</td>\n",
       "      <td>universitas gadjah mada</td>\n",
       "    </tr>\n",
       "    <tr>\n",
       "      <th>2</th>\n",
       "      <td>255</td>\n",
       "      <td>institut teknologi bandung</td>\n",
       "    </tr>\n",
       "    <tr>\n",
       "      <th>3</th>\n",
       "      <td>=287</td>\n",
       "      <td>universitas airlangga</td>\n",
       "    </tr>\n",
       "    <tr>\n",
       "      <th>4</th>\n",
       "      <td>399</td>\n",
       "      <td>institut pertanian bogor</td>\n",
       "    </tr>\n",
       "    <tr>\n",
       "      <th>5</th>\n",
       "      <td>=509</td>\n",
       "      <td>institut teknologi sepuluh nopember</td>\n",
       "    </tr>\n",
       "    <tr>\n",
       "      <th>6</th>\n",
       "      <td>=515</td>\n",
       "      <td>universitas padjadjaran</td>\n",
       "    </tr>\n",
       "    <tr>\n",
       "      <th>7</th>\n",
       "      <td>=624</td>\n",
       "      <td>universitas diponegoro</td>\n",
       "    </tr>\n",
       "    <tr>\n",
       "      <th>8</th>\n",
       "      <td>=680</td>\n",
       "      <td>universitas brawijaya</td>\n",
       "    </tr>\n",
       "    <tr>\n",
       "      <th>9</th>\n",
       "      <td>851-900</td>\n",
       "      <td>universitas bina nusantara</td>\n",
       "    </tr>\n",
       "    <tr>\n",
       "      <th>10</th>\n",
       "      <td>951-1000</td>\n",
       "      <td>universitas hasanuddin</td>\n",
       "    </tr>\n",
       "    <tr>\n",
       "      <th>11</th>\n",
       "      <td>1001-1200</td>\n",
       "      <td>telkom university</td>\n",
       "    </tr>\n",
       "    <tr>\n",
       "      <th>12</th>\n",
       "      <td>1001-1200</td>\n",
       "      <td>universitas sebelas maret</td>\n",
       "    </tr>\n",
       "    <tr>\n",
       "      <th>13</th>\n",
       "      <td>1001-1200</td>\n",
       "      <td>universitas sumatera utara</td>\n",
       "    </tr>\n",
       "    <tr>\n",
       "      <th>14</th>\n",
       "      <td>1201-1400</td>\n",
       "      <td>institut teknologi nasional bandung</td>\n",
       "    </tr>\n",
       "    <tr>\n",
       "      <th>15</th>\n",
       "      <td>1201-1400</td>\n",
       "      <td>universitas muhammadiyah yogyakarta</td>\n",
       "    </tr>\n",
       "    <tr>\n",
       "      <th>16</th>\n",
       "      <td>1201-1400</td>\n",
       "      <td>universitas pendidikan indonesia</td>\n",
       "    </tr>\n",
       "    <tr>\n",
       "      <th>17</th>\n",
       "      <td>1201-1400</td>\n",
       "      <td>universitas trisakti</td>\n",
       "    </tr>\n",
       "    <tr>\n",
       "      <th>18</th>\n",
       "      <td>1201-1400</td>\n",
       "      <td>universitas negeri yogyakarta</td>\n",
       "    </tr>\n",
       "    <tr>\n",
       "      <th>19</th>\n",
       "      <td>1401+</td>\n",
       "      <td>universitas katolik indonesia atma jaya</td>\n",
       "    </tr>\n",
       "    <tr>\n",
       "      <th>20</th>\n",
       "      <td>1401+</td>\n",
       "      <td>universitas negeri padang</td>\n",
       "    </tr>\n",
       "    <tr>\n",
       "      <th>21</th>\n",
       "      <td>1401+</td>\n",
       "      <td>universitas negeri malang</td>\n",
       "    </tr>\n",
       "    <tr>\n",
       "      <th>22</th>\n",
       "      <td>1401+</td>\n",
       "      <td>universitas syiah kuala</td>\n",
       "    </tr>\n",
       "    <tr>\n",
       "      <th>23</th>\n",
       "      <td>1401+</td>\n",
       "      <td>universitas andalas</td>\n",
       "    </tr>\n",
       "    <tr>\n",
       "      <th>24</th>\n",
       "      <td>1401+</td>\n",
       "      <td>universitas islam indonesia</td>\n",
       "    </tr>\n",
       "    <tr>\n",
       "      <th>25</th>\n",
       "      <td>1401+</td>\n",
       "      <td>universitas kristen petra</td>\n",
       "    </tr>\n",
       "  </tbody>\n",
       "</table>\n",
       "</div>"
      ],
      "text/plain": [
       "         Rank                               University\n",
       "0         189                    universitas indonesia\n",
       "1         224                  universitas gadjah mada\n",
       "2         255               institut teknologi bandung\n",
       "3        =287                    universitas airlangga\n",
       "4         399                 institut pertanian bogor\n",
       "5        =509      institut teknologi sepuluh nopember\n",
       "6        =515                  universitas padjadjaran\n",
       "7        =624                   universitas diponegoro\n",
       "8        =680                    universitas brawijaya\n",
       "9     851-900               universitas bina nusantara\n",
       "10   951-1000                   universitas hasanuddin\n",
       "11  1001-1200                        telkom university\n",
       "12  1001-1200                universitas sebelas maret\n",
       "13  1001-1200               universitas sumatera utara\n",
       "14  1201-1400      institut teknologi nasional bandung\n",
       "15  1201-1400      universitas muhammadiyah yogyakarta\n",
       "16  1201-1400         universitas pendidikan indonesia\n",
       "17  1201-1400                     universitas trisakti\n",
       "18  1201-1400            universitas negeri yogyakarta\n",
       "19      1401+  universitas katolik indonesia atma jaya\n",
       "20      1401+                universitas negeri padang\n",
       "21      1401+                universitas negeri malang\n",
       "22      1401+                  universitas syiah kuala\n",
       "23      1401+                      universitas andalas\n",
       "24      1401+              universitas islam indonesia\n",
       "25      1401+                universitas kristen petra"
      ]
     },
     "execution_count": 47,
     "metadata": {},
     "output_type": "execute_result"
    }
   ],
   "source": [
    "univ_mapping = {\n",
    "    'gadjah mada university': 'universitas gadjah mada',\n",
    "    'ipb university': 'institut pertanian bogor',\n",
    "    'diponegoro university': 'universitas diponegoro',\n",
    "    'atma jaya catholic university of indonesia': 'universitas katolik indonesia atma jaya',\n",
    "    'state university of malang': 'universitas negeri malang',\n",
    "    'petra christian university': 'universitas kristen petra',\n",
    "    'bina nusantara university': 'universitas bina nusantara',\n",
    "}\n",
    "\n",
    "rank['University'] = rank['University'].str.lower().replace(univ_mapping)\n",
    "\n",
    "rank"
   ]
  },
  {
   "cell_type": "code",
   "execution_count": 49,
   "id": "2db61b8e",
   "metadata": {},
   "outputs": [
    {
     "data": {
      "application/vnd.microsoft.datawrangler.viewer.v0+json": {
       "columns": [
        {
         "name": "index",
         "rawType": "int64",
         "type": "integer"
        },
        {
         "name": "Rank",
         "rawType": "int64",
         "type": "integer"
        },
        {
         "name": "University",
         "rawType": "object",
         "type": "string"
        }
       ],
       "ref": "1cfd97d8-a66b-4284-ab4d-6ad1253cf729",
       "rows": [
        [
         "0",
         "1",
         "universitas indonesia"
        ],
        [
         "1",
         "2",
         "universitas gadjah mada"
        ],
        [
         "2",
         "3",
         "institut teknologi bandung"
        ],
        [
         "3",
         "4",
         "universitas airlangga"
        ],
        [
         "4",
         "5",
         "institut pertanian bogor"
        ],
        [
         "5",
         "6",
         "institut teknologi sepuluh nopember"
        ],
        [
         "6",
         "7",
         "universitas padjadjaran"
        ],
        [
         "7",
         "8",
         "universitas diponegoro"
        ],
        [
         "8",
         "9",
         "universitas brawijaya"
        ],
        [
         "9",
         "10",
         "universitas bina nusantara"
        ],
        [
         "10",
         "11",
         "universitas hasanuddin"
        ],
        [
         "11",
         "12",
         "telkom university"
        ],
        [
         "12",
         "13",
         "universitas sebelas maret"
        ],
        [
         "13",
         "14",
         "universitas sumatera utara"
        ],
        [
         "14",
         "15",
         "institut teknologi nasional bandung"
        ],
        [
         "15",
         "16",
         "universitas muhammadiyah yogyakarta"
        ],
        [
         "16",
         "17",
         "universitas pendidikan indonesia"
        ],
        [
         "17",
         "18",
         "universitas trisakti"
        ],
        [
         "18",
         "19",
         "universitas negeri yogyakarta"
        ],
        [
         "19",
         "20",
         "universitas katolik indonesia atma jaya"
        ],
        [
         "20",
         "21",
         "universitas negeri padang"
        ],
        [
         "21",
         "22",
         "universitas negeri malang"
        ],
        [
         "22",
         "23",
         "universitas syiah kuala"
        ],
        [
         "23",
         "24",
         "universitas andalas"
        ],
        [
         "24",
         "25",
         "universitas islam indonesia"
        ],
        [
         "25",
         "26",
         "universitas kristen petra"
        ]
       ],
       "shape": {
        "columns": 2,
        "rows": 26
       }
      },
      "text/html": [
       "<div>\n",
       "<style scoped>\n",
       "    .dataframe tbody tr th:only-of-type {\n",
       "        vertical-align: middle;\n",
       "    }\n",
       "\n",
       "    .dataframe tbody tr th {\n",
       "        vertical-align: top;\n",
       "    }\n",
       "\n",
       "    .dataframe thead th {\n",
       "        text-align: right;\n",
       "    }\n",
       "</style>\n",
       "<table border=\"1\" class=\"dataframe\">\n",
       "  <thead>\n",
       "    <tr style=\"text-align: right;\">\n",
       "      <th></th>\n",
       "      <th>Rank</th>\n",
       "      <th>University</th>\n",
       "    </tr>\n",
       "  </thead>\n",
       "  <tbody>\n",
       "    <tr>\n",
       "      <th>0</th>\n",
       "      <td>1</td>\n",
       "      <td>universitas indonesia</td>\n",
       "    </tr>\n",
       "    <tr>\n",
       "      <th>1</th>\n",
       "      <td>2</td>\n",
       "      <td>universitas gadjah mada</td>\n",
       "    </tr>\n",
       "    <tr>\n",
       "      <th>2</th>\n",
       "      <td>3</td>\n",
       "      <td>institut teknologi bandung</td>\n",
       "    </tr>\n",
       "    <tr>\n",
       "      <th>3</th>\n",
       "      <td>4</td>\n",
       "      <td>universitas airlangga</td>\n",
       "    </tr>\n",
       "    <tr>\n",
       "      <th>4</th>\n",
       "      <td>5</td>\n",
       "      <td>institut pertanian bogor</td>\n",
       "    </tr>\n",
       "    <tr>\n",
       "      <th>5</th>\n",
       "      <td>6</td>\n",
       "      <td>institut teknologi sepuluh nopember</td>\n",
       "    </tr>\n",
       "    <tr>\n",
       "      <th>6</th>\n",
       "      <td>7</td>\n",
       "      <td>universitas padjadjaran</td>\n",
       "    </tr>\n",
       "    <tr>\n",
       "      <th>7</th>\n",
       "      <td>8</td>\n",
       "      <td>universitas diponegoro</td>\n",
       "    </tr>\n",
       "    <tr>\n",
       "      <th>8</th>\n",
       "      <td>9</td>\n",
       "      <td>universitas brawijaya</td>\n",
       "    </tr>\n",
       "    <tr>\n",
       "      <th>9</th>\n",
       "      <td>10</td>\n",
       "      <td>universitas bina nusantara</td>\n",
       "    </tr>\n",
       "    <tr>\n",
       "      <th>10</th>\n",
       "      <td>11</td>\n",
       "      <td>universitas hasanuddin</td>\n",
       "    </tr>\n",
       "    <tr>\n",
       "      <th>11</th>\n",
       "      <td>12</td>\n",
       "      <td>telkom university</td>\n",
       "    </tr>\n",
       "    <tr>\n",
       "      <th>12</th>\n",
       "      <td>13</td>\n",
       "      <td>universitas sebelas maret</td>\n",
       "    </tr>\n",
       "    <tr>\n",
       "      <th>13</th>\n",
       "      <td>14</td>\n",
       "      <td>universitas sumatera utara</td>\n",
       "    </tr>\n",
       "    <tr>\n",
       "      <th>14</th>\n",
       "      <td>15</td>\n",
       "      <td>institut teknologi nasional bandung</td>\n",
       "    </tr>\n",
       "    <tr>\n",
       "      <th>15</th>\n",
       "      <td>16</td>\n",
       "      <td>universitas muhammadiyah yogyakarta</td>\n",
       "    </tr>\n",
       "    <tr>\n",
       "      <th>16</th>\n",
       "      <td>17</td>\n",
       "      <td>universitas pendidikan indonesia</td>\n",
       "    </tr>\n",
       "    <tr>\n",
       "      <th>17</th>\n",
       "      <td>18</td>\n",
       "      <td>universitas trisakti</td>\n",
       "    </tr>\n",
       "    <tr>\n",
       "      <th>18</th>\n",
       "      <td>19</td>\n",
       "      <td>universitas negeri yogyakarta</td>\n",
       "    </tr>\n",
       "    <tr>\n",
       "      <th>19</th>\n",
       "      <td>20</td>\n",
       "      <td>universitas katolik indonesia atma jaya</td>\n",
       "    </tr>\n",
       "    <tr>\n",
       "      <th>20</th>\n",
       "      <td>21</td>\n",
       "      <td>universitas negeri padang</td>\n",
       "    </tr>\n",
       "    <tr>\n",
       "      <th>21</th>\n",
       "      <td>22</td>\n",
       "      <td>universitas negeri malang</td>\n",
       "    </tr>\n",
       "    <tr>\n",
       "      <th>22</th>\n",
       "      <td>23</td>\n",
       "      <td>universitas syiah kuala</td>\n",
       "    </tr>\n",
       "    <tr>\n",
       "      <th>23</th>\n",
       "      <td>24</td>\n",
       "      <td>universitas andalas</td>\n",
       "    </tr>\n",
       "    <tr>\n",
       "      <th>24</th>\n",
       "      <td>25</td>\n",
       "      <td>universitas islam indonesia</td>\n",
       "    </tr>\n",
       "    <tr>\n",
       "      <th>25</th>\n",
       "      <td>26</td>\n",
       "      <td>universitas kristen petra</td>\n",
       "    </tr>\n",
       "  </tbody>\n",
       "</table>\n",
       "</div>"
      ],
      "text/plain": [
       "    Rank                               University\n",
       "0      1                    universitas indonesia\n",
       "1      2                  universitas gadjah mada\n",
       "2      3               institut teknologi bandung\n",
       "3      4                    universitas airlangga\n",
       "4      5                 institut pertanian bogor\n",
       "5      6      institut teknologi sepuluh nopember\n",
       "6      7                  universitas padjadjaran\n",
       "7      8                   universitas diponegoro\n",
       "8      9                    universitas brawijaya\n",
       "9     10               universitas bina nusantara\n",
       "10    11                   universitas hasanuddin\n",
       "11    12                        telkom university\n",
       "12    13                universitas sebelas maret\n",
       "13    14               universitas sumatera utara\n",
       "14    15      institut teknologi nasional bandung\n",
       "15    16      universitas muhammadiyah yogyakarta\n",
       "16    17         universitas pendidikan indonesia\n",
       "17    18                     universitas trisakti\n",
       "18    19            universitas negeri yogyakarta\n",
       "19    20  universitas katolik indonesia atma jaya\n",
       "20    21                universitas negeri padang\n",
       "21    22                universitas negeri malang\n",
       "22    23                  universitas syiah kuala\n",
       "23    24                      universitas andalas\n",
       "24    25              universitas islam indonesia\n",
       "25    26                universitas kristen petra"
      ]
     },
     "execution_count": 49,
     "metadata": {},
     "output_type": "execute_result"
    }
   ],
   "source": [
    "rank['Rank'] = rank.index + 1\n",
    "rank"
   ]
  },
  {
   "cell_type": "code",
   "execution_count": 51,
   "id": "cb7726ec",
   "metadata": {},
   "outputs": [
    {
     "data": {
      "application/vnd.microsoft.datawrangler.viewer.v0+json": {
       "columns": [
        {
         "name": "index",
         "rawType": "int64",
         "type": "integer"
        },
        {
         "name": "Universitas",
         "rawType": "object",
         "type": "string"
        },
        {
         "name": "Prodi",
         "rawType": "object",
         "type": "unknown"
        },
        {
         "name": "Jenjang",
         "rawType": "object",
         "type": "string"
        },
        {
         "name": "Status",
         "rawType": "object",
         "type": "unknown"
        },
        {
         "name": "Rank",
         "rawType": "float64",
         "type": "float"
        }
       ],
       "ref": "fbd2ca59-0929-4480-9cd8-aba44fb789e5",
       "rows": [
        [
         "0",
         "politeknik angkatan laut",
         "FARMASI",
         "D-III",
         "PTKL",
         null
        ],
        [
         "1",
         "sekolah tinggi agama kristen protestan negeri sentani",
         "Pendidikan Agama Kristen",
         "S1",
         "PTAN",
         null
        ],
        [
         "2",
         "sekolah tinggi ilmu ekonomi tri dharma widya",
         "Akuntansi",
         "S1",
         "03",
         null
        ],
        [
         "3",
         "universitas pasifik morotai",
         "Akuntansi",
         "S1",
         "12",
         null
        ],
        [
         "4",
         "sekolah tinggi ilmu ekonomi ekadharma indonesia",
         "Akuntansi",
         "S1",
         "04",
         null
        ],
        [
         "5",
         "stmik rosma",
         "Komputerisasi Akuntansi",
         "D-III",
         "04",
         null
        ],
        [
         "6",
         "universitas pancasakti",
         "FARMASI",
         "S1",
         "09",
         null
        ],
        [
         "7",
         "akademi kebidanan farmako husada almuctari bogor",
         "KEBIDANAN",
         "D-III",
         "04",
         null
        ],
        [
         "8",
         "universitas muhammadiyah gorontalo",
         "Akuakultur",
         "S1",
         "16",
         null
        ],
        [
         "9",
         "institut maritim prasetiya mandiri",
         "Budidaya Perairan",
         "D-III",
         "02",
         null
        ],
        [
         "10",
         "institut al fithrah surabaya",
         "Ilmu Tasawuf",
         "S1",
         "PTAS",
         null
        ],
        [
         "11",
         "politeknik unggulan cipta mandiri",
         "Perhotelan",
         "D-III",
         "01",
         null
        ],
        [
         "12",
         "universitas muhammadiyah bima",
         "Ilmu Hukum",
         "S1",
         "08",
         null
        ],
        [
         "13",
         "sekolah tinggi arsitektur ykpn yogyakarta",
         "Gambar Arsitektur",
         "D-III",
         "05",
         null
        ],
        [
         "14",
         "universitas tribhuwana tungga dewi",
         "Agribisnis",
         "S1",
         "07",
         null
        ],
        [
         "15",
         "universitas sam ratulangi",
         "Sastra Jerman",
         "S1",
         "PTN",
         null
        ],
        [
         "16",
         "universitas muhammadiyah aceh",
         "Arsitektur",
         "S1",
         "13",
         null
        ],
        [
         "17",
         "universitas negeri semarang",
         "Statistika Dan Sains Data",
         "S1",
         "PTN",
         null
        ],
        [
         "18",
         "politeknik pariwisata nhi bandung",
         "Pengelolaan Usaha Rekreasi",
         "D-IV",
         "PTKL",
         null
        ],
        [
         "19",
         "politeknik pariwisata nhi bandung",
         "Usaha Perjalanan Wisata",
         "D-IV",
         "PTKL",
         null
        ],
        [
         "20",
         "politeknik perikanan negeri tual",
         "Teknologi Hasil Perikanan",
         "D-III",
         "PTN",
         null
        ],
        [
         "21",
         "politeknik kelautan dan perikanan bitung",
         "Teknik Penangkapan Ikan",
         "D-III",
         "PTKL",
         null
        ],
        [
         "22",
         "universitas abdurrab",
         "Ilmu Pemerintahan",
         "S1",
         "17",
         null
        ],
        [
         "23",
         "politeknik maritim eka utama subang",
         "Manajemen Pelabuhan",
         "D-III",
         "04",
         null
        ],
        [
         "24",
         "universitas satu nusa lampung",
         "Perhotelan",
         "D-III",
         "02",
         null
        ],
        [
         "25",
         "institut sayyid muhammad alawi al maliki",
         "Hukum Ekonomi Syariah (Mu`amalah)",
         "S1",
         "PTAS",
         null
        ],
        [
         "26",
         "institut sayyid muhammad alawi al maliki",
         "Hukum Keluarga Islam (Ahwal Syakhshiyyah)",
         "S1",
         "PTAS",
         null
        ],
        [
         "27",
         "universitas abdurrab",
         "Psikologi",
         "S1",
         "17",
         null
        ],
        [
         "28",
         "universitas islam alaziziyah indonesia",
         "Ekonomi Syariah",
         "S1",
         "PTAS",
         null
        ],
        [
         "29",
         "politeknik negeri banyuwangi",
         "Destinasi Pariwisata",
         "D-IV",
         "PTN",
         null
        ],
        [
         "30",
         "universitas hkbp nommensen",
         "Teknologi Hasil Pertanian",
         "S1",
         "01",
         null
        ],
        [
         "31",
         "sekolah tinggi agama islam pelita nusa bandung barat",
         "Perbankan Syariah",
         "S1",
         "PTAS",
         null
        ],
        [
         "32",
         "sekolah tinggi agama islam pelita nusa bandung barat",
         "Ekonomi Syari'ah",
         "S1",
         "PTAS",
         null
        ],
        [
         "33",
         "universitas islam syekhyusuf",
         "Administrasi Publik",
         "S1",
         "04",
         null
        ],
        [
         "34",
         "sekolah tinggi agama islam dirosat islamiyah alhikmah jakarta",
         "Ilmu Al-Qur'an Dan Tafsir",
         "S1",
         "PTAS",
         null
        ],
        [
         "35",
         "sekolah tinggi agama islam dirosat islamiyah alhikmah jakarta",
         "Komunikasi Dan Penyiaran Islam",
         "S1",
         "PTAS",
         null
        ],
        [
         "36",
         "institut al fithrah surabaya",
         "Komunikasi Dan Penyiaran Islam",
         "S1",
         "PTAS",
         null
        ],
        [
         "37",
         "universitas diponegoro",
         "Ilmu Perpustakaan Dan Informasi",
         "S1",
         "PTN",
         "8.0"
        ],
        [
         "38",
         "politeknik statistika stis",
         "Komputasi Statistik",
         "D4",
         "PTKL",
         null
        ],
        [
         "39",
         "politeknik sandi karsa",
         "TEKNOLOGI RADIOLOGI PENCITRAAN",
         "D-IV",
         "09",
         null
        ],
        [
         "40",
         "politeknik kesehatan kementerian kesehatan medan",
         "KEBIDANAN",
         "D-IV",
         "PTKL",
         null
        ],
        [
         "41",
         "politeknik kesehatan kementerian kesehatan kendari",
         "GIZI DAN DIETETIKA",
         "D-IV",
         "PTKL",
         null
        ],
        [
         "42",
         "politeknik kesehatan kementerian kesehatan kalimantan timur",
         "KEBIDANAN",
         "D-IV",
         "PTKL",
         null
        ],
        [
         "43",
         "institut kesehatan dan teknologi pondok karya pembangunan",
         "KESELAMATAN DAN KESEHATAN KERJA",
         "D-IV",
         "03",
         null
        ],
        [
         "44",
         "universitas kristen indonesia paulus",
         "Sistem Informasi",
         "S1",
         "09",
         null
        ],
        [
         "45",
         "universitas safin pati",
         "Sistem Informasi",
         "S1",
         "06",
         null
        ],
        [
         "46",
         "sekolah tinggi teknologi bontang",
         "Sistem Informasi",
         "S1",
         "11",
         null
        ],
        [
         "47",
         "universitas sipatokkong mambo",
         "ILMU KEPERAWATAN",
         "S1",
         "09",
         null
        ],
        [
         "48",
         "universitas sebelas maret",
         "KEPERAWATAN ANESTESIOLOGI",
         "D-IV",
         "PTN",
         "13.0"
        ],
        [
         "49",
         "universitas sebelas maret",
         "KEDOKTERAN",
         "S1",
         "PTN",
         "13.0"
        ]
       ],
       "shape": {
        "columns": 5,
        "rows": 26795
       }
      },
      "text/html": [
       "<div>\n",
       "<style scoped>\n",
       "    .dataframe tbody tr th:only-of-type {\n",
       "        vertical-align: middle;\n",
       "    }\n",
       "\n",
       "    .dataframe tbody tr th {\n",
       "        vertical-align: top;\n",
       "    }\n",
       "\n",
       "    .dataframe thead th {\n",
       "        text-align: right;\n",
       "    }\n",
       "</style>\n",
       "<table border=\"1\" class=\"dataframe\">\n",
       "  <thead>\n",
       "    <tr style=\"text-align: right;\">\n",
       "      <th></th>\n",
       "      <th>Universitas</th>\n",
       "      <th>Prodi</th>\n",
       "      <th>Jenjang</th>\n",
       "      <th>Status</th>\n",
       "      <th>Rank</th>\n",
       "    </tr>\n",
       "  </thead>\n",
       "  <tbody>\n",
       "    <tr>\n",
       "      <th>0</th>\n",
       "      <td>politeknik angkatan laut</td>\n",
       "      <td>FARMASI</td>\n",
       "      <td>D-III</td>\n",
       "      <td>PTKL</td>\n",
       "      <td>NaN</td>\n",
       "    </tr>\n",
       "    <tr>\n",
       "      <th>1</th>\n",
       "      <td>sekolah tinggi agama kristen protestan negeri ...</td>\n",
       "      <td>Pendidikan Agama Kristen</td>\n",
       "      <td>S1</td>\n",
       "      <td>PTAN</td>\n",
       "      <td>NaN</td>\n",
       "    </tr>\n",
       "    <tr>\n",
       "      <th>2</th>\n",
       "      <td>sekolah tinggi ilmu ekonomi tri dharma widya</td>\n",
       "      <td>Akuntansi</td>\n",
       "      <td>S1</td>\n",
       "      <td>03</td>\n",
       "      <td>NaN</td>\n",
       "    </tr>\n",
       "    <tr>\n",
       "      <th>3</th>\n",
       "      <td>universitas pasifik morotai</td>\n",
       "      <td>Akuntansi</td>\n",
       "      <td>S1</td>\n",
       "      <td>12</td>\n",
       "      <td>NaN</td>\n",
       "    </tr>\n",
       "    <tr>\n",
       "      <th>4</th>\n",
       "      <td>sekolah tinggi ilmu ekonomi ekadharma indonesia</td>\n",
       "      <td>Akuntansi</td>\n",
       "      <td>S1</td>\n",
       "      <td>04</td>\n",
       "      <td>NaN</td>\n",
       "    </tr>\n",
       "    <tr>\n",
       "      <th>...</th>\n",
       "      <td>...</td>\n",
       "      <td>...</td>\n",
       "      <td>...</td>\n",
       "      <td>...</td>\n",
       "      <td>...</td>\n",
       "    </tr>\n",
       "    <tr>\n",
       "      <th>26790</th>\n",
       "      <td>stai bakti negara tegal</td>\n",
       "      <td>Pendidikan Agama Islam</td>\n",
       "      <td>S1</td>\n",
       "      <td>PTAS</td>\n",
       "      <td>NaN</td>\n",
       "    </tr>\n",
       "    <tr>\n",
       "      <th>26791</th>\n",
       "      <td>stmik musi rawas</td>\n",
       "      <td>Teknik Informatika</td>\n",
       "      <td>S1</td>\n",
       "      <td>02</td>\n",
       "      <td>NaN</td>\n",
       "    </tr>\n",
       "    <tr>\n",
       "      <th>26792</th>\n",
       "      <td>universitas indonesia</td>\n",
       "      <td>KEDOKTERAN</td>\n",
       "      <td>S1</td>\n",
       "      <td>PTN</td>\n",
       "      <td>1.0</td>\n",
       "    </tr>\n",
       "    <tr>\n",
       "      <th>26793</th>\n",
       "      <td>universitas bina bangsa</td>\n",
       "      <td>Pendidikan Ilmu Pengetahuan Sosial</td>\n",
       "      <td>S1</td>\n",
       "      <td>04</td>\n",
       "      <td>NaN</td>\n",
       "    </tr>\n",
       "    <tr>\n",
       "      <th>26794</th>\n",
       "      <td>universitas bina bangsa</td>\n",
       "      <td>Pendidikan Jasmani</td>\n",
       "      <td>S1</td>\n",
       "      <td>04</td>\n",
       "      <td>NaN</td>\n",
       "    </tr>\n",
       "  </tbody>\n",
       "</table>\n",
       "<p>26795 rows × 5 columns</p>\n",
       "</div>"
      ],
      "text/plain": [
       "                                             Universitas  \\\n",
       "0                               politeknik angkatan laut   \n",
       "1      sekolah tinggi agama kristen protestan negeri ...   \n",
       "2           sekolah tinggi ilmu ekonomi tri dharma widya   \n",
       "3                            universitas pasifik morotai   \n",
       "4        sekolah tinggi ilmu ekonomi ekadharma indonesia   \n",
       "...                                                  ...   \n",
       "26790                            stai bakti negara tegal   \n",
       "26791                                   stmik musi rawas   \n",
       "26792                              universitas indonesia   \n",
       "26793                            universitas bina bangsa   \n",
       "26794                            universitas bina bangsa   \n",
       "\n",
       "                                    Prodi Jenjang Status  Rank  \n",
       "0                                 FARMASI   D-III   PTKL   NaN  \n",
       "1                Pendidikan Agama Kristen      S1   PTAN   NaN  \n",
       "2                               Akuntansi      S1     03   NaN  \n",
       "3                               Akuntansi      S1     12   NaN  \n",
       "4                               Akuntansi      S1     04   NaN  \n",
       "...                                   ...     ...    ...   ...  \n",
       "26790              Pendidikan Agama Islam      S1   PTAS   NaN  \n",
       "26791                  Teknik Informatika      S1     02   NaN  \n",
       "26792                          KEDOKTERAN      S1    PTN   1.0  \n",
       "26793  Pendidikan Ilmu Pengetahuan Sosial      S1     04   NaN  \n",
       "26794                  Pendidikan Jasmani      S1     04   NaN  \n",
       "\n",
       "[26795 rows x 5 columns]"
      ]
     },
     "execution_count": 51,
     "metadata": {},
     "output_type": "execute_result"
    }
   ],
   "source": [
    "merged_df = major.merge(rank, left_on='Universitas', right_on='University', how='left')\n",
    "merged_df = merged_df.drop(columns=['University'])\n",
    "merged_df"
   ]
  },
  {
   "cell_type": "code",
   "execution_count": 52,
   "id": "c6455281",
   "metadata": {},
   "outputs": [
    {
     "data": {
      "application/vnd.microsoft.datawrangler.viewer.v0+json": {
       "columns": [
        {
         "name": "index",
         "rawType": "int64",
         "type": "integer"
        },
        {
         "name": "Universitas",
         "rawType": "object",
         "type": "string"
        },
        {
         "name": "Prodi",
         "rawType": "object",
         "type": "unknown"
        },
        {
         "name": "Jenjang",
         "rawType": "object",
         "type": "string"
        },
        {
         "name": "Status",
         "rawType": "object",
         "type": "unknown"
        },
        {
         "name": "Rank",
         "rawType": "float64",
         "type": "float"
        }
       ],
       "ref": "5ca816ec-ce50-412a-8228-d3533b2d70aa",
       "rows": [
        [
         "0",
         "politeknik angkatan laut",
         "FARMASI",
         "D-III",
         "PTKL",
         "999.0"
        ],
        [
         "1",
         "sekolah tinggi agama kristen protestan negeri sentani",
         "Pendidikan Agama Kristen",
         "S1",
         "PTAN",
         "999.0"
        ],
        [
         "2",
         "sekolah tinggi ilmu ekonomi tri dharma widya",
         "Akuntansi",
         "S1",
         "03",
         "999.0"
        ],
        [
         "3",
         "universitas pasifik morotai",
         "Akuntansi",
         "S1",
         "12",
         "999.0"
        ],
        [
         "4",
         "sekolah tinggi ilmu ekonomi ekadharma indonesia",
         "Akuntansi",
         "S1",
         "04",
         "999.0"
        ],
        [
         "5",
         "stmik rosma",
         "Komputerisasi Akuntansi",
         "D-III",
         "04",
         "999.0"
        ],
        [
         "6",
         "universitas pancasakti",
         "FARMASI",
         "S1",
         "09",
         "999.0"
        ],
        [
         "7",
         "akademi kebidanan farmako husada almuctari bogor",
         "KEBIDANAN",
         "D-III",
         "04",
         "999.0"
        ],
        [
         "8",
         "universitas muhammadiyah gorontalo",
         "Akuakultur",
         "S1",
         "16",
         "999.0"
        ],
        [
         "9",
         "institut maritim prasetiya mandiri",
         "Budidaya Perairan",
         "D-III",
         "02",
         "999.0"
        ],
        [
         "10",
         "institut al fithrah surabaya",
         "Ilmu Tasawuf",
         "S1",
         "PTAS",
         "999.0"
        ],
        [
         "11",
         "politeknik unggulan cipta mandiri",
         "Perhotelan",
         "D-III",
         "01",
         "999.0"
        ],
        [
         "12",
         "universitas muhammadiyah bima",
         "Ilmu Hukum",
         "S1",
         "08",
         "999.0"
        ],
        [
         "13",
         "sekolah tinggi arsitektur ykpn yogyakarta",
         "Gambar Arsitektur",
         "D-III",
         "05",
         "999.0"
        ],
        [
         "14",
         "universitas tribhuwana tungga dewi",
         "Agribisnis",
         "S1",
         "07",
         "999.0"
        ],
        [
         "15",
         "universitas sam ratulangi",
         "Sastra Jerman",
         "S1",
         "PTN",
         "999.0"
        ],
        [
         "16",
         "universitas muhammadiyah aceh",
         "Arsitektur",
         "S1",
         "13",
         "999.0"
        ],
        [
         "17",
         "universitas negeri semarang",
         "Statistika Dan Sains Data",
         "S1",
         "PTN",
         "999.0"
        ],
        [
         "18",
         "politeknik pariwisata nhi bandung",
         "Pengelolaan Usaha Rekreasi",
         "D-IV",
         "PTKL",
         "999.0"
        ],
        [
         "19",
         "politeknik pariwisata nhi bandung",
         "Usaha Perjalanan Wisata",
         "D-IV",
         "PTKL",
         "999.0"
        ],
        [
         "20",
         "politeknik perikanan negeri tual",
         "Teknologi Hasil Perikanan",
         "D-III",
         "PTN",
         "999.0"
        ],
        [
         "21",
         "politeknik kelautan dan perikanan bitung",
         "Teknik Penangkapan Ikan",
         "D-III",
         "PTKL",
         "999.0"
        ],
        [
         "22",
         "universitas abdurrab",
         "Ilmu Pemerintahan",
         "S1",
         "17",
         "999.0"
        ],
        [
         "23",
         "politeknik maritim eka utama subang",
         "Manajemen Pelabuhan",
         "D-III",
         "04",
         "999.0"
        ],
        [
         "24",
         "universitas satu nusa lampung",
         "Perhotelan",
         "D-III",
         "02",
         "999.0"
        ],
        [
         "25",
         "institut sayyid muhammad alawi al maliki",
         "Hukum Ekonomi Syariah (Mu`amalah)",
         "S1",
         "PTAS",
         "999.0"
        ],
        [
         "26",
         "institut sayyid muhammad alawi al maliki",
         "Hukum Keluarga Islam (Ahwal Syakhshiyyah)",
         "S1",
         "PTAS",
         "999.0"
        ],
        [
         "27",
         "universitas abdurrab",
         "Psikologi",
         "S1",
         "17",
         "999.0"
        ],
        [
         "28",
         "universitas islam alaziziyah indonesia",
         "Ekonomi Syariah",
         "S1",
         "PTAS",
         "999.0"
        ],
        [
         "29",
         "politeknik negeri banyuwangi",
         "Destinasi Pariwisata",
         "D-IV",
         "PTN",
         "999.0"
        ],
        [
         "30",
         "universitas hkbp nommensen",
         "Teknologi Hasil Pertanian",
         "S1",
         "01",
         "999.0"
        ],
        [
         "31",
         "sekolah tinggi agama islam pelita nusa bandung barat",
         "Perbankan Syariah",
         "S1",
         "PTAS",
         "999.0"
        ],
        [
         "32",
         "sekolah tinggi agama islam pelita nusa bandung barat",
         "Ekonomi Syari'ah",
         "S1",
         "PTAS",
         "999.0"
        ],
        [
         "33",
         "universitas islam syekhyusuf",
         "Administrasi Publik",
         "S1",
         "04",
         "999.0"
        ],
        [
         "34",
         "sekolah tinggi agama islam dirosat islamiyah alhikmah jakarta",
         "Ilmu Al-Qur'an Dan Tafsir",
         "S1",
         "PTAS",
         "999.0"
        ],
        [
         "35",
         "sekolah tinggi agama islam dirosat islamiyah alhikmah jakarta",
         "Komunikasi Dan Penyiaran Islam",
         "S1",
         "PTAS",
         "999.0"
        ],
        [
         "36",
         "institut al fithrah surabaya",
         "Komunikasi Dan Penyiaran Islam",
         "S1",
         "PTAS",
         "999.0"
        ],
        [
         "37",
         "universitas diponegoro",
         "Ilmu Perpustakaan Dan Informasi",
         "S1",
         "PTN",
         "8.0"
        ],
        [
         "38",
         "politeknik statistika stis",
         "Komputasi Statistik",
         "D4",
         "PTKL",
         "999.0"
        ],
        [
         "39",
         "politeknik sandi karsa",
         "TEKNOLOGI RADIOLOGI PENCITRAAN",
         "D-IV",
         "09",
         "999.0"
        ],
        [
         "40",
         "politeknik kesehatan kementerian kesehatan medan",
         "KEBIDANAN",
         "D-IV",
         "PTKL",
         "999.0"
        ],
        [
         "41",
         "politeknik kesehatan kementerian kesehatan kendari",
         "GIZI DAN DIETETIKA",
         "D-IV",
         "PTKL",
         "999.0"
        ],
        [
         "42",
         "politeknik kesehatan kementerian kesehatan kalimantan timur",
         "KEBIDANAN",
         "D-IV",
         "PTKL",
         "999.0"
        ],
        [
         "43",
         "institut kesehatan dan teknologi pondok karya pembangunan",
         "KESELAMATAN DAN KESEHATAN KERJA",
         "D-IV",
         "03",
         "999.0"
        ],
        [
         "44",
         "universitas kristen indonesia paulus",
         "Sistem Informasi",
         "S1",
         "09",
         "999.0"
        ],
        [
         "45",
         "universitas safin pati",
         "Sistem Informasi",
         "S1",
         "06",
         "999.0"
        ],
        [
         "46",
         "sekolah tinggi teknologi bontang",
         "Sistem Informasi",
         "S1",
         "11",
         "999.0"
        ],
        [
         "47",
         "universitas sipatokkong mambo",
         "ILMU KEPERAWATAN",
         "S1",
         "09",
         "999.0"
        ],
        [
         "48",
         "universitas sebelas maret",
         "KEPERAWATAN ANESTESIOLOGI",
         "D-IV",
         "PTN",
         "13.0"
        ],
        [
         "49",
         "universitas sebelas maret",
         "KEDOKTERAN",
         "S1",
         "PTN",
         "13.0"
        ]
       ],
       "shape": {
        "columns": 5,
        "rows": 26795
       }
      },
      "text/html": [
       "<div>\n",
       "<style scoped>\n",
       "    .dataframe tbody tr th:only-of-type {\n",
       "        vertical-align: middle;\n",
       "    }\n",
       "\n",
       "    .dataframe tbody tr th {\n",
       "        vertical-align: top;\n",
       "    }\n",
       "\n",
       "    .dataframe thead th {\n",
       "        text-align: right;\n",
       "    }\n",
       "</style>\n",
       "<table border=\"1\" class=\"dataframe\">\n",
       "  <thead>\n",
       "    <tr style=\"text-align: right;\">\n",
       "      <th></th>\n",
       "      <th>Universitas</th>\n",
       "      <th>Prodi</th>\n",
       "      <th>Jenjang</th>\n",
       "      <th>Status</th>\n",
       "      <th>Rank</th>\n",
       "    </tr>\n",
       "  </thead>\n",
       "  <tbody>\n",
       "    <tr>\n",
       "      <th>0</th>\n",
       "      <td>politeknik angkatan laut</td>\n",
       "      <td>FARMASI</td>\n",
       "      <td>D-III</td>\n",
       "      <td>PTKL</td>\n",
       "      <td>999.0</td>\n",
       "    </tr>\n",
       "    <tr>\n",
       "      <th>1</th>\n",
       "      <td>sekolah tinggi agama kristen protestan negeri ...</td>\n",
       "      <td>Pendidikan Agama Kristen</td>\n",
       "      <td>S1</td>\n",
       "      <td>PTAN</td>\n",
       "      <td>999.0</td>\n",
       "    </tr>\n",
       "    <tr>\n",
       "      <th>2</th>\n",
       "      <td>sekolah tinggi ilmu ekonomi tri dharma widya</td>\n",
       "      <td>Akuntansi</td>\n",
       "      <td>S1</td>\n",
       "      <td>03</td>\n",
       "      <td>999.0</td>\n",
       "    </tr>\n",
       "    <tr>\n",
       "      <th>3</th>\n",
       "      <td>universitas pasifik morotai</td>\n",
       "      <td>Akuntansi</td>\n",
       "      <td>S1</td>\n",
       "      <td>12</td>\n",
       "      <td>999.0</td>\n",
       "    </tr>\n",
       "    <tr>\n",
       "      <th>4</th>\n",
       "      <td>sekolah tinggi ilmu ekonomi ekadharma indonesia</td>\n",
       "      <td>Akuntansi</td>\n",
       "      <td>S1</td>\n",
       "      <td>04</td>\n",
       "      <td>999.0</td>\n",
       "    </tr>\n",
       "    <tr>\n",
       "      <th>...</th>\n",
       "      <td>...</td>\n",
       "      <td>...</td>\n",
       "      <td>...</td>\n",
       "      <td>...</td>\n",
       "      <td>...</td>\n",
       "    </tr>\n",
       "    <tr>\n",
       "      <th>26790</th>\n",
       "      <td>stai bakti negara tegal</td>\n",
       "      <td>Pendidikan Agama Islam</td>\n",
       "      <td>S1</td>\n",
       "      <td>PTAS</td>\n",
       "      <td>999.0</td>\n",
       "    </tr>\n",
       "    <tr>\n",
       "      <th>26791</th>\n",
       "      <td>stmik musi rawas</td>\n",
       "      <td>Teknik Informatika</td>\n",
       "      <td>S1</td>\n",
       "      <td>02</td>\n",
       "      <td>999.0</td>\n",
       "    </tr>\n",
       "    <tr>\n",
       "      <th>26792</th>\n",
       "      <td>universitas indonesia</td>\n",
       "      <td>KEDOKTERAN</td>\n",
       "      <td>S1</td>\n",
       "      <td>PTN</td>\n",
       "      <td>1.0</td>\n",
       "    </tr>\n",
       "    <tr>\n",
       "      <th>26793</th>\n",
       "      <td>universitas bina bangsa</td>\n",
       "      <td>Pendidikan Ilmu Pengetahuan Sosial</td>\n",
       "      <td>S1</td>\n",
       "      <td>04</td>\n",
       "      <td>999.0</td>\n",
       "    </tr>\n",
       "    <tr>\n",
       "      <th>26794</th>\n",
       "      <td>universitas bina bangsa</td>\n",
       "      <td>Pendidikan Jasmani</td>\n",
       "      <td>S1</td>\n",
       "      <td>04</td>\n",
       "      <td>999.0</td>\n",
       "    </tr>\n",
       "  </tbody>\n",
       "</table>\n",
       "<p>26795 rows × 5 columns</p>\n",
       "</div>"
      ],
      "text/plain": [
       "                                             Universitas  \\\n",
       "0                               politeknik angkatan laut   \n",
       "1      sekolah tinggi agama kristen protestan negeri ...   \n",
       "2           sekolah tinggi ilmu ekonomi tri dharma widya   \n",
       "3                            universitas pasifik morotai   \n",
       "4        sekolah tinggi ilmu ekonomi ekadharma indonesia   \n",
       "...                                                  ...   \n",
       "26790                            stai bakti negara tegal   \n",
       "26791                                   stmik musi rawas   \n",
       "26792                              universitas indonesia   \n",
       "26793                            universitas bina bangsa   \n",
       "26794                            universitas bina bangsa   \n",
       "\n",
       "                                    Prodi Jenjang Status   Rank  \n",
       "0                                 FARMASI   D-III   PTKL  999.0  \n",
       "1                Pendidikan Agama Kristen      S1   PTAN  999.0  \n",
       "2                               Akuntansi      S1     03  999.0  \n",
       "3                               Akuntansi      S1     12  999.0  \n",
       "4                               Akuntansi      S1     04  999.0  \n",
       "...                                   ...     ...    ...    ...  \n",
       "26790              Pendidikan Agama Islam      S1   PTAS  999.0  \n",
       "26791                  Teknik Informatika      S1     02  999.0  \n",
       "26792                          KEDOKTERAN      S1    PTN    1.0  \n",
       "26793  Pendidikan Ilmu Pengetahuan Sosial      S1     04  999.0  \n",
       "26794                  Pendidikan Jasmani      S1     04  999.0  \n",
       "\n",
       "[26795 rows x 5 columns]"
      ]
     },
     "execution_count": 52,
     "metadata": {},
     "output_type": "execute_result"
    }
   ],
   "source": [
    "merged_df['Rank'] = merged_df['Rank'].fillna(999)\n",
    "merged_df"
   ]
  },
  {
   "cell_type": "code",
   "execution_count": 54,
   "id": "028164c8",
   "metadata": {},
   "outputs": [
    {
     "data": {
      "application/vnd.microsoft.datawrangler.viewer.v0+json": {
       "columns": [
        {
         "name": "index",
         "rawType": "int64",
         "type": "integer"
        },
        {
         "name": "Universitas",
         "rawType": "object",
         "type": "string"
        },
        {
         "name": "Prodi",
         "rawType": "object",
         "type": "unknown"
        },
        {
         "name": "Rank",
         "rawType": "float64",
         "type": "float"
        }
       ],
       "ref": "51b0b808-6c72-45fe-816d-812fd57ed2d9",
       "rows": [
        [
         "0",
         "politeknik angkatan laut",
         "FARMASI",
         "999.0"
        ],
        [
         "1",
         "sekolah tinggi agama kristen protestan negeri sentani",
         "Pendidikan Agama Kristen",
         "999.0"
        ],
        [
         "2",
         "sekolah tinggi ilmu ekonomi tri dharma widya",
         "Akuntansi",
         "999.0"
        ],
        [
         "3",
         "universitas pasifik morotai",
         "Akuntansi",
         "999.0"
        ],
        [
         "4",
         "sekolah tinggi ilmu ekonomi ekadharma indonesia",
         "Akuntansi",
         "999.0"
        ],
        [
         "5",
         "stmik rosma",
         "Komputerisasi Akuntansi",
         "999.0"
        ],
        [
         "6",
         "universitas pancasakti",
         "FARMASI",
         "999.0"
        ],
        [
         "7",
         "akademi kebidanan farmako husada almuctari bogor",
         "KEBIDANAN",
         "999.0"
        ],
        [
         "8",
         "universitas muhammadiyah gorontalo",
         "Akuakultur",
         "999.0"
        ],
        [
         "9",
         "institut maritim prasetiya mandiri",
         "Budidaya Perairan",
         "999.0"
        ],
        [
         "10",
         "institut al fithrah surabaya",
         "Ilmu Tasawuf",
         "999.0"
        ],
        [
         "11",
         "politeknik unggulan cipta mandiri",
         "Perhotelan",
         "999.0"
        ],
        [
         "12",
         "universitas muhammadiyah bima",
         "Ilmu Hukum",
         "999.0"
        ],
        [
         "13",
         "sekolah tinggi arsitektur ykpn yogyakarta",
         "Gambar Arsitektur",
         "999.0"
        ],
        [
         "14",
         "universitas tribhuwana tungga dewi",
         "Agribisnis",
         "999.0"
        ],
        [
         "15",
         "universitas sam ratulangi",
         "Sastra Jerman",
         "999.0"
        ],
        [
         "16",
         "universitas muhammadiyah aceh",
         "Arsitektur",
         "999.0"
        ],
        [
         "17",
         "universitas negeri semarang",
         "Statistika Dan Sains Data",
         "999.0"
        ],
        [
         "18",
         "politeknik pariwisata nhi bandung",
         "Pengelolaan Usaha Rekreasi",
         "999.0"
        ],
        [
         "19",
         "politeknik pariwisata nhi bandung",
         "Usaha Perjalanan Wisata",
         "999.0"
        ],
        [
         "20",
         "politeknik perikanan negeri tual",
         "Teknologi Hasil Perikanan",
         "999.0"
        ],
        [
         "21",
         "politeknik kelautan dan perikanan bitung",
         "Teknik Penangkapan Ikan",
         "999.0"
        ],
        [
         "22",
         "universitas abdurrab",
         "Ilmu Pemerintahan",
         "999.0"
        ],
        [
         "23",
         "politeknik maritim eka utama subang",
         "Manajemen Pelabuhan",
         "999.0"
        ],
        [
         "24",
         "universitas satu nusa lampung",
         "Perhotelan",
         "999.0"
        ],
        [
         "25",
         "institut sayyid muhammad alawi al maliki",
         "Hukum Ekonomi Syariah (Mu`amalah)",
         "999.0"
        ],
        [
         "26",
         "institut sayyid muhammad alawi al maliki",
         "Hukum Keluarga Islam (Ahwal Syakhshiyyah)",
         "999.0"
        ],
        [
         "27",
         "universitas abdurrab",
         "Psikologi",
         "999.0"
        ],
        [
         "28",
         "universitas islam alaziziyah indonesia",
         "Ekonomi Syariah",
         "999.0"
        ],
        [
         "29",
         "politeknik negeri banyuwangi",
         "Destinasi Pariwisata",
         "999.0"
        ],
        [
         "30",
         "universitas hkbp nommensen",
         "Teknologi Hasil Pertanian",
         "999.0"
        ],
        [
         "31",
         "sekolah tinggi agama islam pelita nusa bandung barat",
         "Perbankan Syariah",
         "999.0"
        ],
        [
         "32",
         "sekolah tinggi agama islam pelita nusa bandung barat",
         "Ekonomi Syari'ah",
         "999.0"
        ],
        [
         "33",
         "universitas islam syekhyusuf",
         "Administrasi Publik",
         "999.0"
        ],
        [
         "34",
         "sekolah tinggi agama islam dirosat islamiyah alhikmah jakarta",
         "Ilmu Al-Qur'an Dan Tafsir",
         "999.0"
        ],
        [
         "35",
         "sekolah tinggi agama islam dirosat islamiyah alhikmah jakarta",
         "Komunikasi Dan Penyiaran Islam",
         "999.0"
        ],
        [
         "36",
         "institut al fithrah surabaya",
         "Komunikasi Dan Penyiaran Islam",
         "999.0"
        ],
        [
         "37",
         "universitas diponegoro",
         "Ilmu Perpustakaan Dan Informasi",
         "8.0"
        ],
        [
         "38",
         "politeknik statistika stis",
         "Komputasi Statistik",
         "999.0"
        ],
        [
         "39",
         "politeknik sandi karsa",
         "TEKNOLOGI RADIOLOGI PENCITRAAN",
         "999.0"
        ],
        [
         "40",
         "politeknik kesehatan kementerian kesehatan medan",
         "KEBIDANAN",
         "999.0"
        ],
        [
         "41",
         "politeknik kesehatan kementerian kesehatan kendari",
         "GIZI DAN DIETETIKA",
         "999.0"
        ],
        [
         "42",
         "politeknik kesehatan kementerian kesehatan kalimantan timur",
         "KEBIDANAN",
         "999.0"
        ],
        [
         "43",
         "institut kesehatan dan teknologi pondok karya pembangunan",
         "KESELAMATAN DAN KESEHATAN KERJA",
         "999.0"
        ],
        [
         "44",
         "universitas kristen indonesia paulus",
         "Sistem Informasi",
         "999.0"
        ],
        [
         "45",
         "universitas safin pati",
         "Sistem Informasi",
         "999.0"
        ],
        [
         "46",
         "sekolah tinggi teknologi bontang",
         "Sistem Informasi",
         "999.0"
        ],
        [
         "47",
         "universitas sipatokkong mambo",
         "ILMU KEPERAWATAN",
         "999.0"
        ],
        [
         "48",
         "universitas sebelas maret",
         "KEPERAWATAN ANESTESIOLOGI",
         "13.0"
        ],
        [
         "49",
         "universitas sebelas maret",
         "KEDOKTERAN",
         "13.0"
        ]
       ],
       "shape": {
        "columns": 3,
        "rows": 26795
       }
      },
      "text/html": [
       "<div>\n",
       "<style scoped>\n",
       "    .dataframe tbody tr th:only-of-type {\n",
       "        vertical-align: middle;\n",
       "    }\n",
       "\n",
       "    .dataframe tbody tr th {\n",
       "        vertical-align: top;\n",
       "    }\n",
       "\n",
       "    .dataframe thead th {\n",
       "        text-align: right;\n",
       "    }\n",
       "</style>\n",
       "<table border=\"1\" class=\"dataframe\">\n",
       "  <thead>\n",
       "    <tr style=\"text-align: right;\">\n",
       "      <th></th>\n",
       "      <th>Universitas</th>\n",
       "      <th>Prodi</th>\n",
       "      <th>Rank</th>\n",
       "    </tr>\n",
       "  </thead>\n",
       "  <tbody>\n",
       "    <tr>\n",
       "      <th>0</th>\n",
       "      <td>politeknik angkatan laut</td>\n",
       "      <td>FARMASI</td>\n",
       "      <td>999.0</td>\n",
       "    </tr>\n",
       "    <tr>\n",
       "      <th>1</th>\n",
       "      <td>sekolah tinggi agama kristen protestan negeri ...</td>\n",
       "      <td>Pendidikan Agama Kristen</td>\n",
       "      <td>999.0</td>\n",
       "    </tr>\n",
       "    <tr>\n",
       "      <th>2</th>\n",
       "      <td>sekolah tinggi ilmu ekonomi tri dharma widya</td>\n",
       "      <td>Akuntansi</td>\n",
       "      <td>999.0</td>\n",
       "    </tr>\n",
       "    <tr>\n",
       "      <th>3</th>\n",
       "      <td>universitas pasifik morotai</td>\n",
       "      <td>Akuntansi</td>\n",
       "      <td>999.0</td>\n",
       "    </tr>\n",
       "    <tr>\n",
       "      <th>4</th>\n",
       "      <td>sekolah tinggi ilmu ekonomi ekadharma indonesia</td>\n",
       "      <td>Akuntansi</td>\n",
       "      <td>999.0</td>\n",
       "    </tr>\n",
       "    <tr>\n",
       "      <th>...</th>\n",
       "      <td>...</td>\n",
       "      <td>...</td>\n",
       "      <td>...</td>\n",
       "    </tr>\n",
       "    <tr>\n",
       "      <th>26790</th>\n",
       "      <td>stai bakti negara tegal</td>\n",
       "      <td>Pendidikan Agama Islam</td>\n",
       "      <td>999.0</td>\n",
       "    </tr>\n",
       "    <tr>\n",
       "      <th>26791</th>\n",
       "      <td>stmik musi rawas</td>\n",
       "      <td>Teknik Informatika</td>\n",
       "      <td>999.0</td>\n",
       "    </tr>\n",
       "    <tr>\n",
       "      <th>26792</th>\n",
       "      <td>universitas indonesia</td>\n",
       "      <td>KEDOKTERAN</td>\n",
       "      <td>1.0</td>\n",
       "    </tr>\n",
       "    <tr>\n",
       "      <th>26793</th>\n",
       "      <td>universitas bina bangsa</td>\n",
       "      <td>Pendidikan Ilmu Pengetahuan Sosial</td>\n",
       "      <td>999.0</td>\n",
       "    </tr>\n",
       "    <tr>\n",
       "      <th>26794</th>\n",
       "      <td>universitas bina bangsa</td>\n",
       "      <td>Pendidikan Jasmani</td>\n",
       "      <td>999.0</td>\n",
       "    </tr>\n",
       "  </tbody>\n",
       "</table>\n",
       "<p>26795 rows × 3 columns</p>\n",
       "</div>"
      ],
      "text/plain": [
       "                                             Universitas  \\\n",
       "0                               politeknik angkatan laut   \n",
       "1      sekolah tinggi agama kristen protestan negeri ...   \n",
       "2           sekolah tinggi ilmu ekonomi tri dharma widya   \n",
       "3                            universitas pasifik morotai   \n",
       "4        sekolah tinggi ilmu ekonomi ekadharma indonesia   \n",
       "...                                                  ...   \n",
       "26790                            stai bakti negara tegal   \n",
       "26791                                   stmik musi rawas   \n",
       "26792                              universitas indonesia   \n",
       "26793                            universitas bina bangsa   \n",
       "26794                            universitas bina bangsa   \n",
       "\n",
       "                                    Prodi   Rank  \n",
       "0                                 FARMASI  999.0  \n",
       "1                Pendidikan Agama Kristen  999.0  \n",
       "2                               Akuntansi  999.0  \n",
       "3                               Akuntansi  999.0  \n",
       "4                               Akuntansi  999.0  \n",
       "...                                   ...    ...  \n",
       "26790              Pendidikan Agama Islam  999.0  \n",
       "26791                  Teknik Informatika  999.0  \n",
       "26792                          KEDOKTERAN    1.0  \n",
       "26793  Pendidikan Ilmu Pengetahuan Sosial  999.0  \n",
       "26794                  Pendidikan Jasmani  999.0  \n",
       "\n",
       "[26795 rows x 3 columns]"
      ]
     },
     "execution_count": 54,
     "metadata": {},
     "output_type": "execute_result"
    }
   ],
   "source": [
    "merged_df.drop(columns=['Jenjang', 'Status'], inplace=True)\n",
    "merged_df"
   ]
  },
  {
   "cell_type": "code",
   "execution_count": 57,
   "id": "d6475eea",
   "metadata": {},
   "outputs": [],
   "source": [
    "merged_df['Prodi'] = (\n",
    "    merged_df['Prodi']\n",
    "    .str.lower()\n",
    "    .str.strip()\n",
    "    .str.replace(r\"[^a-z0-9\\s]\", \"\", regex=True)  \n",
    "    .str.replace(r\"\\s+\", \" \", regex=True)        \n",
    ")"
   ]
  },
  {
   "cell_type": "code",
   "execution_count": 58,
   "id": "9d004397",
   "metadata": {},
   "outputs": [
    {
     "data": {
      "application/vnd.microsoft.datawrangler.viewer.v0+json": {
       "columns": [
        {
         "name": "index",
         "rawType": "int64",
         "type": "integer"
        },
        {
         "name": "Universitas",
         "rawType": "object",
         "type": "string"
        },
        {
         "name": "Prodi",
         "rawType": "object",
         "type": "string"
        },
        {
         "name": "Rank",
         "rawType": "float64",
         "type": "float"
        }
       ],
       "ref": "529060e6-5d6f-4b0d-8a09-1bd4befd13a6",
       "rows": [
        [
         "0",
         "politeknik angkatan laut",
         "farmasi",
         "999.0"
        ],
        [
         "1",
         "sekolah tinggi agama kristen protestan negeri sentani",
         "pendidikan agama kristen",
         "999.0"
        ],
        [
         "2",
         "sekolah tinggi ilmu ekonomi tri dharma widya",
         "akuntansi",
         "999.0"
        ],
        [
         "3",
         "universitas pasifik morotai",
         "akuntansi",
         "999.0"
        ],
        [
         "4",
         "sekolah tinggi ilmu ekonomi ekadharma indonesia",
         "akuntansi",
         "999.0"
        ],
        [
         "5",
         "stmik rosma",
         "komputerisasi akuntansi",
         "999.0"
        ],
        [
         "6",
         "universitas pancasakti",
         "farmasi",
         "999.0"
        ],
        [
         "7",
         "akademi kebidanan farmako husada almuctari bogor",
         "kebidanan",
         "999.0"
        ],
        [
         "8",
         "universitas muhammadiyah gorontalo",
         "akuakultur",
         "999.0"
        ],
        [
         "9",
         "institut maritim prasetiya mandiri",
         "budidaya perairan",
         "999.0"
        ],
        [
         "10",
         "institut al fithrah surabaya",
         "ilmu tasawuf",
         "999.0"
        ],
        [
         "11",
         "politeknik unggulan cipta mandiri",
         "perhotelan",
         "999.0"
        ],
        [
         "12",
         "universitas muhammadiyah bima",
         "ilmu hukum",
         "999.0"
        ],
        [
         "13",
         "sekolah tinggi arsitektur ykpn yogyakarta",
         "gambar arsitektur",
         "999.0"
        ],
        [
         "14",
         "universitas tribhuwana tungga dewi",
         "agribisnis",
         "999.0"
        ],
        [
         "15",
         "universitas sam ratulangi",
         "sastra jerman",
         "999.0"
        ],
        [
         "16",
         "universitas muhammadiyah aceh",
         "arsitektur",
         "999.0"
        ],
        [
         "17",
         "universitas negeri semarang",
         "statistika dan sains data",
         "999.0"
        ],
        [
         "18",
         "politeknik pariwisata nhi bandung",
         "pengelolaan usaha rekreasi",
         "999.0"
        ],
        [
         "19",
         "politeknik pariwisata nhi bandung",
         "usaha perjalanan wisata",
         "999.0"
        ],
        [
         "20",
         "politeknik perikanan negeri tual",
         "teknologi hasil perikanan",
         "999.0"
        ],
        [
         "21",
         "politeknik kelautan dan perikanan bitung",
         "teknik penangkapan ikan",
         "999.0"
        ],
        [
         "22",
         "universitas abdurrab",
         "ilmu pemerintahan",
         "999.0"
        ],
        [
         "23",
         "politeknik maritim eka utama subang",
         "manajemen pelabuhan",
         "999.0"
        ],
        [
         "24",
         "universitas satu nusa lampung",
         "perhotelan",
         "999.0"
        ],
        [
         "25",
         "institut sayyid muhammad alawi al maliki",
         "hukum ekonomi syariah",
         "999.0"
        ],
        [
         "26",
         "institut sayyid muhammad alawi al maliki",
         "hukum keluarga islam",
         "999.0"
        ],
        [
         "27",
         "universitas abdurrab",
         "psikologi",
         "999.0"
        ],
        [
         "28",
         "universitas islam alaziziyah indonesia",
         "ekonomi syariah",
         "999.0"
        ],
        [
         "29",
         "politeknik negeri banyuwangi",
         "destinasi pariwisata",
         "999.0"
        ],
        [
         "30",
         "universitas hkbp nommensen",
         "teknologi hasil pertanian",
         "999.0"
        ],
        [
         "31",
         "sekolah tinggi agama islam pelita nusa bandung barat",
         "perbankan syariah",
         "999.0"
        ],
        [
         "32",
         "sekolah tinggi agama islam pelita nusa bandung barat",
         "ekonomi syariah",
         "999.0"
        ],
        [
         "33",
         "universitas islam syekhyusuf",
         "administrasi publik",
         "999.0"
        ],
        [
         "34",
         "sekolah tinggi agama islam dirosat islamiyah alhikmah jakarta",
         "ilmu alquran dan tafsir",
         "999.0"
        ],
        [
         "35",
         "sekolah tinggi agama islam dirosat islamiyah alhikmah jakarta",
         "komunikasi dan penyiaran islam",
         "999.0"
        ],
        [
         "36",
         "institut al fithrah surabaya",
         "komunikasi dan penyiaran islam",
         "999.0"
        ],
        [
         "37",
         "universitas diponegoro",
         "ilmu perpustakaan dan informasi",
         "8.0"
        ],
        [
         "38",
         "politeknik statistika stis",
         "komputasi statistik",
         "999.0"
        ],
        [
         "39",
         "politeknik sandi karsa",
         "teknologi radiologi pencitraan",
         "999.0"
        ],
        [
         "40",
         "politeknik kesehatan kementerian kesehatan medan",
         "kebidanan",
         "999.0"
        ],
        [
         "41",
         "politeknik kesehatan kementerian kesehatan kendari",
         "gizi dan dietetika",
         "999.0"
        ],
        [
         "42",
         "politeknik kesehatan kementerian kesehatan kalimantan timur",
         "kebidanan",
         "999.0"
        ],
        [
         "43",
         "institut kesehatan dan teknologi pondok karya pembangunan",
         "keselamatan dan kesehatan kerja",
         "999.0"
        ],
        [
         "44",
         "universitas kristen indonesia paulus",
         "sistem informasi",
         "999.0"
        ],
        [
         "45",
         "universitas safin pati",
         "sistem informasi",
         "999.0"
        ],
        [
         "46",
         "sekolah tinggi teknologi bontang",
         "sistem informasi",
         "999.0"
        ],
        [
         "47",
         "universitas sipatokkong mambo",
         "ilmu keperawatan",
         "999.0"
        ],
        [
         "48",
         "universitas sebelas maret",
         "keperawatan anestesiologi",
         "13.0"
        ],
        [
         "49",
         "universitas sebelas maret",
         "kedokteran",
         "13.0"
        ]
       ],
       "shape": {
        "columns": 3,
        "rows": 26795
       }
      },
      "text/html": [
       "<div>\n",
       "<style scoped>\n",
       "    .dataframe tbody tr th:only-of-type {\n",
       "        vertical-align: middle;\n",
       "    }\n",
       "\n",
       "    .dataframe tbody tr th {\n",
       "        vertical-align: top;\n",
       "    }\n",
       "\n",
       "    .dataframe thead th {\n",
       "        text-align: right;\n",
       "    }\n",
       "</style>\n",
       "<table border=\"1\" class=\"dataframe\">\n",
       "  <thead>\n",
       "    <tr style=\"text-align: right;\">\n",
       "      <th></th>\n",
       "      <th>Universitas</th>\n",
       "      <th>Prodi</th>\n",
       "      <th>Rank</th>\n",
       "    </tr>\n",
       "  </thead>\n",
       "  <tbody>\n",
       "    <tr>\n",
       "      <th>0</th>\n",
       "      <td>politeknik angkatan laut</td>\n",
       "      <td>farmasi</td>\n",
       "      <td>999.0</td>\n",
       "    </tr>\n",
       "    <tr>\n",
       "      <th>1</th>\n",
       "      <td>sekolah tinggi agama kristen protestan negeri ...</td>\n",
       "      <td>pendidikan agama kristen</td>\n",
       "      <td>999.0</td>\n",
       "    </tr>\n",
       "    <tr>\n",
       "      <th>2</th>\n",
       "      <td>sekolah tinggi ilmu ekonomi tri dharma widya</td>\n",
       "      <td>akuntansi</td>\n",
       "      <td>999.0</td>\n",
       "    </tr>\n",
       "    <tr>\n",
       "      <th>3</th>\n",
       "      <td>universitas pasifik morotai</td>\n",
       "      <td>akuntansi</td>\n",
       "      <td>999.0</td>\n",
       "    </tr>\n",
       "    <tr>\n",
       "      <th>4</th>\n",
       "      <td>sekolah tinggi ilmu ekonomi ekadharma indonesia</td>\n",
       "      <td>akuntansi</td>\n",
       "      <td>999.0</td>\n",
       "    </tr>\n",
       "    <tr>\n",
       "      <th>...</th>\n",
       "      <td>...</td>\n",
       "      <td>...</td>\n",
       "      <td>...</td>\n",
       "    </tr>\n",
       "    <tr>\n",
       "      <th>26790</th>\n",
       "      <td>stai bakti negara tegal</td>\n",
       "      <td>pendidikan agama islam</td>\n",
       "      <td>999.0</td>\n",
       "    </tr>\n",
       "    <tr>\n",
       "      <th>26791</th>\n",
       "      <td>stmik musi rawas</td>\n",
       "      <td>teknik informatika</td>\n",
       "      <td>999.0</td>\n",
       "    </tr>\n",
       "    <tr>\n",
       "      <th>26792</th>\n",
       "      <td>universitas indonesia</td>\n",
       "      <td>kedokteran</td>\n",
       "      <td>1.0</td>\n",
       "    </tr>\n",
       "    <tr>\n",
       "      <th>26793</th>\n",
       "      <td>universitas bina bangsa</td>\n",
       "      <td>pendidikan ilmu pengetahuan sosial</td>\n",
       "      <td>999.0</td>\n",
       "    </tr>\n",
       "    <tr>\n",
       "      <th>26794</th>\n",
       "      <td>universitas bina bangsa</td>\n",
       "      <td>pendidikan jasmani</td>\n",
       "      <td>999.0</td>\n",
       "    </tr>\n",
       "  </tbody>\n",
       "</table>\n",
       "<p>26795 rows × 3 columns</p>\n",
       "</div>"
      ],
      "text/plain": [
       "                                             Universitas  \\\n",
       "0                               politeknik angkatan laut   \n",
       "1      sekolah tinggi agama kristen protestan negeri ...   \n",
       "2           sekolah tinggi ilmu ekonomi tri dharma widya   \n",
       "3                            universitas pasifik morotai   \n",
       "4        sekolah tinggi ilmu ekonomi ekadharma indonesia   \n",
       "...                                                  ...   \n",
       "26790                            stai bakti negara tegal   \n",
       "26791                                   stmik musi rawas   \n",
       "26792                              universitas indonesia   \n",
       "26793                            universitas bina bangsa   \n",
       "26794                            universitas bina bangsa   \n",
       "\n",
       "                                    Prodi   Rank  \n",
       "0                                 farmasi  999.0  \n",
       "1                pendidikan agama kristen  999.0  \n",
       "2                               akuntansi  999.0  \n",
       "3                               akuntansi  999.0  \n",
       "4                               akuntansi  999.0  \n",
       "...                                   ...    ...  \n",
       "26790              pendidikan agama islam  999.0  \n",
       "26791                  teknik informatika  999.0  \n",
       "26792                          kedokteran    1.0  \n",
       "26793  pendidikan ilmu pengetahuan sosial  999.0  \n",
       "26794                  pendidikan jasmani  999.0  \n",
       "\n",
       "[26795 rows x 3 columns]"
      ]
     },
     "execution_count": 58,
     "metadata": {},
     "output_type": "execute_result"
    }
   ],
   "source": [
    "merged_df"
   ]
  },
  {
   "cell_type": "code",
   "execution_count": 59,
   "id": "da3d3557",
   "metadata": {},
   "outputs": [],
   "source": [
    "merged_df.to_csv('major_final.csv', index=False)"
   ]
  }
 ],
 "metadata": {
  "kernelspec": {
   "display_name": "Python 3.11 (myenv)",
   "language": "python",
   "name": "myenv"
  },
  "language_info": {
   "codemirror_mode": {
    "name": "ipython",
    "version": 3
   },
   "file_extension": ".py",
   "mimetype": "text/x-python",
   "name": "python",
   "nbconvert_exporter": "python",
   "pygments_lexer": "ipython3",
   "version": "3.12.4"
  }
 },
 "nbformat": 4,
 "nbformat_minor": 5
}
